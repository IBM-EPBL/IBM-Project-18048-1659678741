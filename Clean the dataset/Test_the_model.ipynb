{
  "cells": [
    {
      "cell_type": "code",
      "execution_count": null,
      "metadata": {
        "id": "Ev6pxeOJwpNr"
      },
      "outputs": [],
      "source": [
        "import pandas as pd\n",
        "import numpy as np\n",
        "import matplotlib.pyplot as plt\n",
        "import seaborn as sns"
      ]
    },
    {
      "cell_type": "code",
      "execution_count": null,
      "metadata": {
        "colab": {
          "base_uri": "https://localhost:8080/",
          "height": 346
        },
        "id": "grE0j-t8wpNw",
        "outputId": "33b605a6-4038-45dc-8ef4-c148082ed5fa"
      },
      "outputs": [
        {
          "output_type": "error",
          "ename": "FileNotFoundError",
          "evalue": "ignored",
          "traceback": [
            "\u001b[0;31m---------------------------------------------------------------------------\u001b[0m",
            "\u001b[0;31mFileNotFoundError\u001b[0m                         Traceback (most recent call last)",
            "\u001b[0;32m<ipython-input-6-869eb865a6e0>\u001b[0m in \u001b[0;36m<module>\u001b[0;34m\u001b[0m\n\u001b[0;32m----> 1\u001b[0;31m \u001b[0mdf\u001b[0m\u001b[0;34m=\u001b[0m\u001b[0mpd\u001b[0m\u001b[0;34m.\u001b[0m\u001b[0mread_csv\u001b[0m\u001b[0;34m(\u001b[0m\u001b[0;34m\"F:\\IBM_Project\\chronickidneydisease.csv\"\u001b[0m\u001b[0;34m)\u001b[0m\u001b[0;34m\u001b[0m\u001b[0;34m\u001b[0m\u001b[0m\n\u001b[0m\u001b[1;32m      2\u001b[0m \u001b[0mdf\u001b[0m\u001b[0;34m.\u001b[0m\u001b[0mhead\u001b[0m\u001b[0;34m(\u001b[0m\u001b[0;34m)\u001b[0m\u001b[0;34m\u001b[0m\u001b[0;34m\u001b[0m\u001b[0m\n",
            "\u001b[0;32m/usr/local/lib/python3.7/dist-packages/pandas/util/_decorators.py\u001b[0m in \u001b[0;36mwrapper\u001b[0;34m(*args, **kwargs)\u001b[0m\n\u001b[1;32m    309\u001b[0m                     \u001b[0mstacklevel\u001b[0m\u001b[0;34m=\u001b[0m\u001b[0mstacklevel\u001b[0m\u001b[0;34m,\u001b[0m\u001b[0;34m\u001b[0m\u001b[0;34m\u001b[0m\u001b[0m\n\u001b[1;32m    310\u001b[0m                 )\n\u001b[0;32m--> 311\u001b[0;31m             \u001b[0;32mreturn\u001b[0m \u001b[0mfunc\u001b[0m\u001b[0;34m(\u001b[0m\u001b[0;34m*\u001b[0m\u001b[0margs\u001b[0m\u001b[0;34m,\u001b[0m \u001b[0;34m**\u001b[0m\u001b[0mkwargs\u001b[0m\u001b[0;34m)\u001b[0m\u001b[0;34m\u001b[0m\u001b[0;34m\u001b[0m\u001b[0m\n\u001b[0m\u001b[1;32m    312\u001b[0m \u001b[0;34m\u001b[0m\u001b[0m\n\u001b[1;32m    313\u001b[0m         \u001b[0;32mreturn\u001b[0m \u001b[0mwrapper\u001b[0m\u001b[0;34m\u001b[0m\u001b[0;34m\u001b[0m\u001b[0m\n",
            "\u001b[0;32m/usr/local/lib/python3.7/dist-packages/pandas/io/parsers/readers.py\u001b[0m in \u001b[0;36mread_csv\u001b[0;34m(filepath_or_buffer, sep, delimiter, header, names, index_col, usecols, squeeze, prefix, mangle_dupe_cols, dtype, engine, converters, true_values, false_values, skipinitialspace, skiprows, skipfooter, nrows, na_values, keep_default_na, na_filter, verbose, skip_blank_lines, parse_dates, infer_datetime_format, keep_date_col, date_parser, dayfirst, cache_dates, iterator, chunksize, compression, thousands, decimal, lineterminator, quotechar, quoting, doublequote, escapechar, comment, encoding, encoding_errors, dialect, error_bad_lines, warn_bad_lines, on_bad_lines, delim_whitespace, low_memory, memory_map, float_precision, storage_options)\u001b[0m\n\u001b[1;32m    584\u001b[0m     \u001b[0mkwds\u001b[0m\u001b[0;34m.\u001b[0m\u001b[0mupdate\u001b[0m\u001b[0;34m(\u001b[0m\u001b[0mkwds_defaults\u001b[0m\u001b[0;34m)\u001b[0m\u001b[0;34m\u001b[0m\u001b[0;34m\u001b[0m\u001b[0m\n\u001b[1;32m    585\u001b[0m \u001b[0;34m\u001b[0m\u001b[0m\n\u001b[0;32m--> 586\u001b[0;31m     \u001b[0;32mreturn\u001b[0m \u001b[0m_read\u001b[0m\u001b[0;34m(\u001b[0m\u001b[0mfilepath_or_buffer\u001b[0m\u001b[0;34m,\u001b[0m \u001b[0mkwds\u001b[0m\u001b[0;34m)\u001b[0m\u001b[0;34m\u001b[0m\u001b[0;34m\u001b[0m\u001b[0m\n\u001b[0m\u001b[1;32m    587\u001b[0m \u001b[0;34m\u001b[0m\u001b[0m\n\u001b[1;32m    588\u001b[0m \u001b[0;34m\u001b[0m\u001b[0m\n",
            "\u001b[0;32m/usr/local/lib/python3.7/dist-packages/pandas/io/parsers/readers.py\u001b[0m in \u001b[0;36m_read\u001b[0;34m(filepath_or_buffer, kwds)\u001b[0m\n\u001b[1;32m    480\u001b[0m \u001b[0;34m\u001b[0m\u001b[0m\n\u001b[1;32m    481\u001b[0m     \u001b[0;31m# Create the parser.\u001b[0m\u001b[0;34m\u001b[0m\u001b[0;34m\u001b[0m\u001b[0;34m\u001b[0m\u001b[0m\n\u001b[0;32m--> 482\u001b[0;31m     \u001b[0mparser\u001b[0m \u001b[0;34m=\u001b[0m \u001b[0mTextFileReader\u001b[0m\u001b[0;34m(\u001b[0m\u001b[0mfilepath_or_buffer\u001b[0m\u001b[0;34m,\u001b[0m \u001b[0;34m**\u001b[0m\u001b[0mkwds\u001b[0m\u001b[0;34m)\u001b[0m\u001b[0;34m\u001b[0m\u001b[0;34m\u001b[0m\u001b[0m\n\u001b[0m\u001b[1;32m    483\u001b[0m \u001b[0;34m\u001b[0m\u001b[0m\n\u001b[1;32m    484\u001b[0m     \u001b[0;32mif\u001b[0m \u001b[0mchunksize\u001b[0m \u001b[0;32mor\u001b[0m \u001b[0miterator\u001b[0m\u001b[0;34m:\u001b[0m\u001b[0;34m\u001b[0m\u001b[0;34m\u001b[0m\u001b[0m\n",
            "\u001b[0;32m/usr/local/lib/python3.7/dist-packages/pandas/io/parsers/readers.py\u001b[0m in \u001b[0;36m__init__\u001b[0;34m(self, f, engine, **kwds)\u001b[0m\n\u001b[1;32m    809\u001b[0m             \u001b[0mself\u001b[0m\u001b[0;34m.\u001b[0m\u001b[0moptions\u001b[0m\u001b[0;34m[\u001b[0m\u001b[0;34m\"has_index_names\"\u001b[0m\u001b[0;34m]\u001b[0m \u001b[0;34m=\u001b[0m \u001b[0mkwds\u001b[0m\u001b[0;34m[\u001b[0m\u001b[0;34m\"has_index_names\"\u001b[0m\u001b[0;34m]\u001b[0m\u001b[0;34m\u001b[0m\u001b[0;34m\u001b[0m\u001b[0m\n\u001b[1;32m    810\u001b[0m \u001b[0;34m\u001b[0m\u001b[0m\n\u001b[0;32m--> 811\u001b[0;31m         \u001b[0mself\u001b[0m\u001b[0;34m.\u001b[0m\u001b[0m_engine\u001b[0m \u001b[0;34m=\u001b[0m \u001b[0mself\u001b[0m\u001b[0;34m.\u001b[0m\u001b[0m_make_engine\u001b[0m\u001b[0;34m(\u001b[0m\u001b[0mself\u001b[0m\u001b[0;34m.\u001b[0m\u001b[0mengine\u001b[0m\u001b[0;34m)\u001b[0m\u001b[0;34m\u001b[0m\u001b[0;34m\u001b[0m\u001b[0m\n\u001b[0m\u001b[1;32m    812\u001b[0m \u001b[0;34m\u001b[0m\u001b[0m\n\u001b[1;32m    813\u001b[0m     \u001b[0;32mdef\u001b[0m \u001b[0mclose\u001b[0m\u001b[0;34m(\u001b[0m\u001b[0mself\u001b[0m\u001b[0;34m)\u001b[0m\u001b[0;34m:\u001b[0m\u001b[0;34m\u001b[0m\u001b[0;34m\u001b[0m\u001b[0m\n",
            "\u001b[0;32m/usr/local/lib/python3.7/dist-packages/pandas/io/parsers/readers.py\u001b[0m in \u001b[0;36m_make_engine\u001b[0;34m(self, engine)\u001b[0m\n\u001b[1;32m   1038\u001b[0m             )\n\u001b[1;32m   1039\u001b[0m         \u001b[0;31m# error: Too many arguments for \"ParserBase\"\u001b[0m\u001b[0;34m\u001b[0m\u001b[0;34m\u001b[0m\u001b[0;34m\u001b[0m\u001b[0m\n\u001b[0;32m-> 1040\u001b[0;31m         \u001b[0;32mreturn\u001b[0m \u001b[0mmapping\u001b[0m\u001b[0;34m[\u001b[0m\u001b[0mengine\u001b[0m\u001b[0;34m]\u001b[0m\u001b[0;34m(\u001b[0m\u001b[0mself\u001b[0m\u001b[0;34m.\u001b[0m\u001b[0mf\u001b[0m\u001b[0;34m,\u001b[0m \u001b[0;34m**\u001b[0m\u001b[0mself\u001b[0m\u001b[0;34m.\u001b[0m\u001b[0moptions\u001b[0m\u001b[0;34m)\u001b[0m  \u001b[0;31m# type: ignore[call-arg]\u001b[0m\u001b[0;34m\u001b[0m\u001b[0;34m\u001b[0m\u001b[0m\n\u001b[0m\u001b[1;32m   1041\u001b[0m \u001b[0;34m\u001b[0m\u001b[0m\n\u001b[1;32m   1042\u001b[0m     \u001b[0;32mdef\u001b[0m \u001b[0m_failover_to_python\u001b[0m\u001b[0;34m(\u001b[0m\u001b[0mself\u001b[0m\u001b[0;34m)\u001b[0m\u001b[0;34m:\u001b[0m\u001b[0;34m\u001b[0m\u001b[0;34m\u001b[0m\u001b[0m\n",
            "\u001b[0;32m/usr/local/lib/python3.7/dist-packages/pandas/io/parsers/c_parser_wrapper.py\u001b[0m in \u001b[0;36m__init__\u001b[0;34m(self, src, **kwds)\u001b[0m\n\u001b[1;32m     49\u001b[0m \u001b[0;34m\u001b[0m\u001b[0m\n\u001b[1;32m     50\u001b[0m         \u001b[0;31m# open handles\u001b[0m\u001b[0;34m\u001b[0m\u001b[0;34m\u001b[0m\u001b[0;34m\u001b[0m\u001b[0m\n\u001b[0;32m---> 51\u001b[0;31m         \u001b[0mself\u001b[0m\u001b[0;34m.\u001b[0m\u001b[0m_open_handles\u001b[0m\u001b[0;34m(\u001b[0m\u001b[0msrc\u001b[0m\u001b[0;34m,\u001b[0m \u001b[0mkwds\u001b[0m\u001b[0;34m)\u001b[0m\u001b[0;34m\u001b[0m\u001b[0;34m\u001b[0m\u001b[0m\n\u001b[0m\u001b[1;32m     52\u001b[0m         \u001b[0;32massert\u001b[0m \u001b[0mself\u001b[0m\u001b[0;34m.\u001b[0m\u001b[0mhandles\u001b[0m \u001b[0;32mis\u001b[0m \u001b[0;32mnot\u001b[0m \u001b[0;32mNone\u001b[0m\u001b[0;34m\u001b[0m\u001b[0;34m\u001b[0m\u001b[0m\n\u001b[1;32m     53\u001b[0m \u001b[0;34m\u001b[0m\u001b[0m\n",
            "\u001b[0;32m/usr/local/lib/python3.7/dist-packages/pandas/io/parsers/base_parser.py\u001b[0m in \u001b[0;36m_open_handles\u001b[0;34m(self, src, kwds)\u001b[0m\n\u001b[1;32m    227\u001b[0m             \u001b[0mmemory_map\u001b[0m\u001b[0;34m=\u001b[0m\u001b[0mkwds\u001b[0m\u001b[0;34m.\u001b[0m\u001b[0mget\u001b[0m\u001b[0;34m(\u001b[0m\u001b[0;34m\"memory_map\"\u001b[0m\u001b[0;34m,\u001b[0m \u001b[0;32mFalse\u001b[0m\u001b[0;34m)\u001b[0m\u001b[0;34m,\u001b[0m\u001b[0;34m\u001b[0m\u001b[0;34m\u001b[0m\u001b[0m\n\u001b[1;32m    228\u001b[0m             \u001b[0mstorage_options\u001b[0m\u001b[0;34m=\u001b[0m\u001b[0mkwds\u001b[0m\u001b[0;34m.\u001b[0m\u001b[0mget\u001b[0m\u001b[0;34m(\u001b[0m\u001b[0;34m\"storage_options\"\u001b[0m\u001b[0;34m,\u001b[0m \u001b[0;32mNone\u001b[0m\u001b[0;34m)\u001b[0m\u001b[0;34m,\u001b[0m\u001b[0;34m\u001b[0m\u001b[0;34m\u001b[0m\u001b[0m\n\u001b[0;32m--> 229\u001b[0;31m             \u001b[0merrors\u001b[0m\u001b[0;34m=\u001b[0m\u001b[0mkwds\u001b[0m\u001b[0;34m.\u001b[0m\u001b[0mget\u001b[0m\u001b[0;34m(\u001b[0m\u001b[0;34m\"encoding_errors\"\u001b[0m\u001b[0;34m,\u001b[0m \u001b[0;34m\"strict\"\u001b[0m\u001b[0;34m)\u001b[0m\u001b[0;34m,\u001b[0m\u001b[0;34m\u001b[0m\u001b[0;34m\u001b[0m\u001b[0m\n\u001b[0m\u001b[1;32m    230\u001b[0m         )\n\u001b[1;32m    231\u001b[0m \u001b[0;34m\u001b[0m\u001b[0m\n",
            "\u001b[0;32m/usr/local/lib/python3.7/dist-packages/pandas/io/common.py\u001b[0m in \u001b[0;36mget_handle\u001b[0;34m(path_or_buf, mode, encoding, compression, memory_map, is_text, errors, storage_options)\u001b[0m\n\u001b[1;32m    705\u001b[0m                 \u001b[0mencoding\u001b[0m\u001b[0;34m=\u001b[0m\u001b[0mioargs\u001b[0m\u001b[0;34m.\u001b[0m\u001b[0mencoding\u001b[0m\u001b[0;34m,\u001b[0m\u001b[0;34m\u001b[0m\u001b[0;34m\u001b[0m\u001b[0m\n\u001b[1;32m    706\u001b[0m                 \u001b[0merrors\u001b[0m\u001b[0;34m=\u001b[0m\u001b[0merrors\u001b[0m\u001b[0;34m,\u001b[0m\u001b[0;34m\u001b[0m\u001b[0;34m\u001b[0m\u001b[0m\n\u001b[0;32m--> 707\u001b[0;31m                 \u001b[0mnewline\u001b[0m\u001b[0;34m=\u001b[0m\u001b[0;34m\"\"\u001b[0m\u001b[0;34m,\u001b[0m\u001b[0;34m\u001b[0m\u001b[0;34m\u001b[0m\u001b[0m\n\u001b[0m\u001b[1;32m    708\u001b[0m             )\n\u001b[1;32m    709\u001b[0m         \u001b[0;32melse\u001b[0m\u001b[0;34m:\u001b[0m\u001b[0;34m\u001b[0m\u001b[0;34m\u001b[0m\u001b[0m\n",
            "\u001b[0;31mFileNotFoundError\u001b[0m: [Errno 2] No such file or directory: 'F:\\\\IBM_Project\\\\chronickidneydisease.csv'"
          ]
        }
      ],
      "source": [
        "df=pd.read_csv(\"F:\\IBM_Project\\chronickidneydisease.csv\")\n",
        "df.head()"
      ]
    },
    {
      "cell_type": "code",
      "execution_count": null,
      "metadata": {
        "id": "-9exN5NSwpNx",
        "outputId": "1a1e54b1-9d9f-4473-8b54-0f703983ab9a"
      },
      "outputs": [
        {
          "data": {
            "text/html": [
              "<div>\n",
              "<style scoped>\n",
              "    .dataframe tbody tr th:only-of-type {\n",
              "        vertical-align: middle;\n",
              "    }\n",
              "\n",
              "    .dataframe tbody tr th {\n",
              "        vertical-align: top;\n",
              "    }\n",
              "\n",
              "    .dataframe thead th {\n",
              "        text-align: right;\n",
              "    }\n",
              "</style>\n",
              "<table border=\"1\" class=\"dataframe\">\n",
              "  <thead>\n",
              "    <tr style=\"text-align: right;\">\n",
              "      <th></th>\n",
              "      <th>cols</th>\n",
              "      <th>Full_names</th>\n",
              "    </tr>\n",
              "  </thead>\n",
              "  <tbody>\n",
              "    <tr>\n",
              "      <th>0</th>\n",
              "      <td>id</td>\n",
              "      <td>id</td>\n",
              "    </tr>\n",
              "    <tr>\n",
              "      <th>1</th>\n",
              "      <td>age</td>\n",
              "      <td>age</td>\n",
              "    </tr>\n",
              "    <tr>\n",
              "      <th>2</th>\n",
              "      <td>bp</td>\n",
              "      <td>blood pressure</td>\n",
              "    </tr>\n",
              "    <tr>\n",
              "      <th>3</th>\n",
              "      <td>sg</td>\n",
              "      <td>specific gravity</td>\n",
              "    </tr>\n",
              "    <tr>\n",
              "      <th>4</th>\n",
              "      <td>al</td>\n",
              "      <td>albumin</td>\n",
              "    </tr>\n",
              "  </tbody>\n",
              "</table>\n",
              "</div>"
            ],
            "text/plain": [
              "   cols        Full_names\n",
              "0   id                 id\n",
              "1  age                age\n",
              "2   bp     blood pressure\n",
              "3   sg   specific gravity\n",
              "4   al            albumin"
            ]
          },
          "execution_count": 3,
          "metadata": {},
          "output_type": "execute_result"
        }
      ],
      "source": [
        "columns = pd.read_csv(\"D:\\IBM_Project\\data_description.txt\",sep=\"-\")\n",
        "columns=columns.reset_index()\n",
        "columns.columns=[\"cols\",\"Full_names\"]\n",
        "columns.head()"
      ]
    },
    {
      "cell_type": "code",
      "execution_count": null,
      "metadata": {
        "id": "QGm1hx0nwpNy",
        "outputId": "a8403adc-59e0-4547-f101-8fb7165ff417"
      },
      "outputs": [
        {
          "data": {
            "text/html": [
              "<div>\n",
              "<style scoped>\n",
              "    .dataframe tbody tr th:only-of-type {\n",
              "        vertical-align: middle;\n",
              "    }\n",
              "\n",
              "    .dataframe tbody tr th {\n",
              "        vertical-align: top;\n",
              "    }\n",
              "\n",
              "    .dataframe thead th {\n",
              "        text-align: right;\n",
              "    }\n",
              "</style>\n",
              "<table border=\"1\" class=\"dataframe\">\n",
              "  <thead>\n",
              "    <tr style=\"text-align: right;\">\n",
              "      <th></th>\n",
              "      <th>id</th>\n",
              "      <th>age</th>\n",
              "      <th>blood pressure</th>\n",
              "      <th>specific gravity</th>\n",
              "      <th>albumin</th>\n",
              "      <th>sugar</th>\n",
              "      <th>red blood cells</th>\n",
              "      <th>pus cell</th>\n",
              "      <th>pus cell clumps</th>\n",
              "      <th>bacteria</th>\n",
              "      <th>...</th>\n",
              "      <th>packed cell volume</th>\n",
              "      <th>white blood cell count</th>\n",
              "      <th>red blood cell count</th>\n",
              "      <th>ypertension</th>\n",
              "      <th>diabetes mellitus</th>\n",
              "      <th>coronary artery disease</th>\n",
              "      <th>appetite</th>\n",
              "      <th>pedal edema</th>\n",
              "      <th>anemia</th>\n",
              "      <th>class</th>\n",
              "    </tr>\n",
              "  </thead>\n",
              "  <tbody>\n",
              "    <tr>\n",
              "      <th>0</th>\n",
              "      <td>0</td>\n",
              "      <td>48.0</td>\n",
              "      <td>80.0</td>\n",
              "      <td>1.020</td>\n",
              "      <td>1.0</td>\n",
              "      <td>0.0</td>\n",
              "      <td>NaN</td>\n",
              "      <td>normal</td>\n",
              "      <td>notpresent</td>\n",
              "      <td>notpresent</td>\n",
              "      <td>...</td>\n",
              "      <td>44</td>\n",
              "      <td>7800</td>\n",
              "      <td>5.2</td>\n",
              "      <td>yes</td>\n",
              "      <td>yes</td>\n",
              "      <td>no</td>\n",
              "      <td>good</td>\n",
              "      <td>no</td>\n",
              "      <td>no</td>\n",
              "      <td>ckd</td>\n",
              "    </tr>\n",
              "    <tr>\n",
              "      <th>1</th>\n",
              "      <td>1</td>\n",
              "      <td>7.0</td>\n",
              "      <td>50.0</td>\n",
              "      <td>1.020</td>\n",
              "      <td>4.0</td>\n",
              "      <td>0.0</td>\n",
              "      <td>NaN</td>\n",
              "      <td>normal</td>\n",
              "      <td>notpresent</td>\n",
              "      <td>notpresent</td>\n",
              "      <td>...</td>\n",
              "      <td>38</td>\n",
              "      <td>6000</td>\n",
              "      <td>NaN</td>\n",
              "      <td>no</td>\n",
              "      <td>no</td>\n",
              "      <td>no</td>\n",
              "      <td>good</td>\n",
              "      <td>no</td>\n",
              "      <td>no</td>\n",
              "      <td>ckd</td>\n",
              "    </tr>\n",
              "    <tr>\n",
              "      <th>2</th>\n",
              "      <td>2</td>\n",
              "      <td>62.0</td>\n",
              "      <td>80.0</td>\n",
              "      <td>1.010</td>\n",
              "      <td>2.0</td>\n",
              "      <td>3.0</td>\n",
              "      <td>normal</td>\n",
              "      <td>normal</td>\n",
              "      <td>notpresent</td>\n",
              "      <td>notpresent</td>\n",
              "      <td>...</td>\n",
              "      <td>31</td>\n",
              "      <td>7500</td>\n",
              "      <td>NaN</td>\n",
              "      <td>no</td>\n",
              "      <td>yes</td>\n",
              "      <td>no</td>\n",
              "      <td>poor</td>\n",
              "      <td>no</td>\n",
              "      <td>yes</td>\n",
              "      <td>ckd</td>\n",
              "    </tr>\n",
              "    <tr>\n",
              "      <th>3</th>\n",
              "      <td>3</td>\n",
              "      <td>48.0</td>\n",
              "      <td>70.0</td>\n",
              "      <td>1.005</td>\n",
              "      <td>4.0</td>\n",
              "      <td>0.0</td>\n",
              "      <td>normal</td>\n",
              "      <td>abnormal</td>\n",
              "      <td>present</td>\n",
              "      <td>notpresent</td>\n",
              "      <td>...</td>\n",
              "      <td>32</td>\n",
              "      <td>6700</td>\n",
              "      <td>3.9</td>\n",
              "      <td>yes</td>\n",
              "      <td>no</td>\n",
              "      <td>no</td>\n",
              "      <td>poor</td>\n",
              "      <td>yes</td>\n",
              "      <td>yes</td>\n",
              "      <td>ckd</td>\n",
              "    </tr>\n",
              "    <tr>\n",
              "      <th>4</th>\n",
              "      <td>4</td>\n",
              "      <td>51.0</td>\n",
              "      <td>80.0</td>\n",
              "      <td>1.010</td>\n",
              "      <td>2.0</td>\n",
              "      <td>0.0</td>\n",
              "      <td>normal</td>\n",
              "      <td>normal</td>\n",
              "      <td>notpresent</td>\n",
              "      <td>notpresent</td>\n",
              "      <td>...</td>\n",
              "      <td>35</td>\n",
              "      <td>7300</td>\n",
              "      <td>4.6</td>\n",
              "      <td>no</td>\n",
              "      <td>no</td>\n",
              "      <td>no</td>\n",
              "      <td>good</td>\n",
              "      <td>no</td>\n",
              "      <td>no</td>\n",
              "      <td>ckd</td>\n",
              "    </tr>\n",
              "  </tbody>\n",
              "</table>\n",
              "<p>5 rows × 26 columns</p>\n",
              "</div>"
            ],
            "text/plain": [
              "   id   age  blood pressure  specific gravity  albumin  sugar red blood cells  \\\n",
              "0   0  48.0            80.0             1.020      1.0    0.0             NaN   \n",
              "1   1   7.0            50.0             1.020      4.0    0.0             NaN   \n",
              "2   2  62.0            80.0             1.010      2.0    3.0          normal   \n",
              "3   3  48.0            70.0             1.005      4.0    0.0          normal   \n",
              "4   4  51.0            80.0             1.010      2.0    0.0          normal   \n",
              "\n",
              "   pus cell pus cell clumps    bacteria  ...  packed cell volume  \\\n",
              "0    normal      notpresent  notpresent  ...                  44   \n",
              "1    normal      notpresent  notpresent  ...                  38   \n",
              "2    normal      notpresent  notpresent  ...                  31   \n",
              "3  abnormal         present  notpresent  ...                  32   \n",
              "4    normal      notpresent  notpresent  ...                  35   \n",
              "\n",
              "   white blood cell count  red blood cell count  ypertension  \\\n",
              "0                    7800                   5.2          yes   \n",
              "1                    6000                   NaN           no   \n",
              "2                    7500                   NaN           no   \n",
              "3                    6700                   3.9          yes   \n",
              "4                    7300                   4.6           no   \n",
              "\n",
              "   diabetes mellitus  coronary artery disease appetite pedal edema anemia  \\\n",
              "0                yes                       no     good          no     no   \n",
              "1                 no                       no     good          no     no   \n",
              "2                yes                       no     poor          no    yes   \n",
              "3                 no                       no     poor         yes    yes   \n",
              "4                 no                       no     good          no     no   \n",
              "\n",
              "  class  \n",
              "0   ckd  \n",
              "1   ckd  \n",
              "2   ckd  \n",
              "3   ckd  \n",
              "4   ckd  \n",
              "\n",
              "[5 rows x 26 columns]"
            ]
          },
          "execution_count": 4,
          "metadata": {},
          "output_type": "execute_result"
        }
      ],
      "source": [
        "df.columns = columns[\"Full_names\"].values\n",
        "df.head()"
      ]
    },
    {
      "cell_type": "code",
      "execution_count": null,
      "metadata": {
        "id": "901VSrbGwpNz",
        "outputId": "c124cb69-ce96-4f16-c6bf-83e9ada2448a"
      },
      "outputs": [
        {
          "data": {
            "text/plain": [
              "id                           int64\n",
              "age                        float64\n",
              "blood pressure             float64\n",
              "specific gravity           float64\n",
              "albumin                    float64\n",
              "sugar                      float64\n",
              "red blood cells             object\n",
              " pus cell                   object\n",
              "pus cell clumps             object\n",
              "bacteria                    object\n",
              "blood glucose random       float64\n",
              "blood urea                 float64\n",
              "serum creatinine           float64\n",
              "sodium                     float64\n",
              "potassium                  float64\n",
              "haemoglobin                float64\n",
              "packed cell volume          object\n",
              "white blood cell count      object\n",
              "red blood cell count        object\n",
              "ypertension                 object\n",
              "diabetes mellitus           object\n",
              "coronary artery disease     object\n",
              "appetite                    object\n",
              "pedal edema                 object\n",
              "anemia                      object\n",
              "class                       object\n",
              "dtype: object"
            ]
          },
          "execution_count": 5,
          "metadata": {},
          "output_type": "execute_result"
        }
      ],
      "source": [
        "df.dtypes"
      ]
    },
    {
      "cell_type": "code",
      "execution_count": null,
      "metadata": {
        "id": "adIDdSvywpNz"
      },
      "outputs": [],
      "source": [
        "def convert_dtypes(df,feature):\n",
        "    df[feature]=pd.to_numeric(df[feature],errors='coerce')"
      ]
    },
    {
      "cell_type": "code",
      "execution_count": null,
      "metadata": {
        "id": "4X86MmnRwpN0"
      },
      "outputs": [],
      "source": [
        "features =['packed cell volume','white blood cell count','red blood cell count']\n",
        "for feature in features:\n",
        "    convert_dtypes(df,feature)"
      ]
    },
    {
      "cell_type": "code",
      "execution_count": null,
      "metadata": {
        "id": "oIHPN8gCwpN1",
        "outputId": "c7c0a23a-e1a8-4427-cb1f-a0ee636dda01"
      },
      "outputs": [
        {
          "data": {
            "text/plain": [
              "id                           int64\n",
              "age                        float64\n",
              "blood pressure             float64\n",
              "specific gravity           float64\n",
              "albumin                    float64\n",
              "sugar                      float64\n",
              "red blood cells             object\n",
              " pus cell                   object\n",
              "pus cell clumps             object\n",
              "bacteria                    object\n",
              "blood glucose random       float64\n",
              "blood urea                 float64\n",
              "serum creatinine           float64\n",
              "sodium                     float64\n",
              "potassium                  float64\n",
              "haemoglobin                float64\n",
              "packed cell volume         float64\n",
              "white blood cell count     float64\n",
              "red blood cell count       float64\n",
              "ypertension                 object\n",
              "diabetes mellitus           object\n",
              "coronary artery disease     object\n",
              "appetite                    object\n",
              "pedal edema                 object\n",
              "anemia                      object\n",
              "class                       object\n",
              "dtype: object"
            ]
          },
          "execution_count": 8,
          "metadata": {},
          "output_type": "execute_result"
        }
      ],
      "source": [
        "df.dtypes"
      ]
    },
    {
      "cell_type": "markdown",
      "metadata": {
        "id": "3lx57XvVwpN2"
      },
      "source": [
        "# DATA CLEANING"
      ]
    },
    {
      "cell_type": "code",
      "execution_count": null,
      "metadata": {
        "id": "XUFnsKzswpN5",
        "outputId": "d7f9c077-6b50-4ea9-d6a8-26505fddfa8a"
      },
      "outputs": [
        {
          "data": {
            "text/html": [
              "<div>\n",
              "<style scoped>\n",
              "    .dataframe tbody tr th:only-of-type {\n",
              "        vertical-align: middle;\n",
              "    }\n",
              "\n",
              "    .dataframe tbody tr th {\n",
              "        vertical-align: top;\n",
              "    }\n",
              "\n",
              "    .dataframe thead th {\n",
              "        text-align: right;\n",
              "    }\n",
              "</style>\n",
              "<table border=\"1\" class=\"dataframe\">\n",
              "  <thead>\n",
              "    <tr style=\"text-align: right;\">\n",
              "      <th></th>\n",
              "      <th>age</th>\n",
              "      <th>blood pressure</th>\n",
              "      <th>specific gravity</th>\n",
              "      <th>albumin</th>\n",
              "      <th>sugar</th>\n",
              "      <th>red blood cells</th>\n",
              "      <th>pus cell</th>\n",
              "      <th>pus cell clumps</th>\n",
              "      <th>bacteria</th>\n",
              "      <th>blood glucose random</th>\n",
              "      <th>...</th>\n",
              "      <th>packed cell volume</th>\n",
              "      <th>white blood cell count</th>\n",
              "      <th>red blood cell count</th>\n",
              "      <th>ypertension</th>\n",
              "      <th>diabetes mellitus</th>\n",
              "      <th>coronary artery disease</th>\n",
              "      <th>appetite</th>\n",
              "      <th>pedal edema</th>\n",
              "      <th>anemia</th>\n",
              "      <th>class</th>\n",
              "    </tr>\n",
              "  </thead>\n",
              "  <tbody>\n",
              "    <tr>\n",
              "      <th>0</th>\n",
              "      <td>48.0</td>\n",
              "      <td>80.0</td>\n",
              "      <td>1.020</td>\n",
              "      <td>1.0</td>\n",
              "      <td>0.0</td>\n",
              "      <td>NaN</td>\n",
              "      <td>normal</td>\n",
              "      <td>notpresent</td>\n",
              "      <td>notpresent</td>\n",
              "      <td>121.0</td>\n",
              "      <td>...</td>\n",
              "      <td>44.0</td>\n",
              "      <td>7800.0</td>\n",
              "      <td>5.2</td>\n",
              "      <td>yes</td>\n",
              "      <td>yes</td>\n",
              "      <td>no</td>\n",
              "      <td>good</td>\n",
              "      <td>no</td>\n",
              "      <td>no</td>\n",
              "      <td>ckd</td>\n",
              "    </tr>\n",
              "    <tr>\n",
              "      <th>1</th>\n",
              "      <td>7.0</td>\n",
              "      <td>50.0</td>\n",
              "      <td>1.020</td>\n",
              "      <td>4.0</td>\n",
              "      <td>0.0</td>\n",
              "      <td>NaN</td>\n",
              "      <td>normal</td>\n",
              "      <td>notpresent</td>\n",
              "      <td>notpresent</td>\n",
              "      <td>NaN</td>\n",
              "      <td>...</td>\n",
              "      <td>38.0</td>\n",
              "      <td>6000.0</td>\n",
              "      <td>NaN</td>\n",
              "      <td>no</td>\n",
              "      <td>no</td>\n",
              "      <td>no</td>\n",
              "      <td>good</td>\n",
              "      <td>no</td>\n",
              "      <td>no</td>\n",
              "      <td>ckd</td>\n",
              "    </tr>\n",
              "    <tr>\n",
              "      <th>2</th>\n",
              "      <td>62.0</td>\n",
              "      <td>80.0</td>\n",
              "      <td>1.010</td>\n",
              "      <td>2.0</td>\n",
              "      <td>3.0</td>\n",
              "      <td>normal</td>\n",
              "      <td>normal</td>\n",
              "      <td>notpresent</td>\n",
              "      <td>notpresent</td>\n",
              "      <td>423.0</td>\n",
              "      <td>...</td>\n",
              "      <td>31.0</td>\n",
              "      <td>7500.0</td>\n",
              "      <td>NaN</td>\n",
              "      <td>no</td>\n",
              "      <td>yes</td>\n",
              "      <td>no</td>\n",
              "      <td>poor</td>\n",
              "      <td>no</td>\n",
              "      <td>yes</td>\n",
              "      <td>ckd</td>\n",
              "    </tr>\n",
              "    <tr>\n",
              "      <th>3</th>\n",
              "      <td>48.0</td>\n",
              "      <td>70.0</td>\n",
              "      <td>1.005</td>\n",
              "      <td>4.0</td>\n",
              "      <td>0.0</td>\n",
              "      <td>normal</td>\n",
              "      <td>abnormal</td>\n",
              "      <td>present</td>\n",
              "      <td>notpresent</td>\n",
              "      <td>117.0</td>\n",
              "      <td>...</td>\n",
              "      <td>32.0</td>\n",
              "      <td>6700.0</td>\n",
              "      <td>3.9</td>\n",
              "      <td>yes</td>\n",
              "      <td>no</td>\n",
              "      <td>no</td>\n",
              "      <td>poor</td>\n",
              "      <td>yes</td>\n",
              "      <td>yes</td>\n",
              "      <td>ckd</td>\n",
              "    </tr>\n",
              "    <tr>\n",
              "      <th>4</th>\n",
              "      <td>51.0</td>\n",
              "      <td>80.0</td>\n",
              "      <td>1.010</td>\n",
              "      <td>2.0</td>\n",
              "      <td>0.0</td>\n",
              "      <td>normal</td>\n",
              "      <td>normal</td>\n",
              "      <td>notpresent</td>\n",
              "      <td>notpresent</td>\n",
              "      <td>106.0</td>\n",
              "      <td>...</td>\n",
              "      <td>35.0</td>\n",
              "      <td>7300.0</td>\n",
              "      <td>4.6</td>\n",
              "      <td>no</td>\n",
              "      <td>no</td>\n",
              "      <td>no</td>\n",
              "      <td>good</td>\n",
              "      <td>no</td>\n",
              "      <td>no</td>\n",
              "      <td>ckd</td>\n",
              "    </tr>\n",
              "  </tbody>\n",
              "</table>\n",
              "<p>5 rows × 25 columns</p>\n",
              "</div>"
            ],
            "text/plain": [
              "    age  blood pressure  specific gravity  albumin  sugar red blood cells  \\\n",
              "0  48.0            80.0             1.020      1.0    0.0             NaN   \n",
              "1   7.0            50.0             1.020      4.0    0.0             NaN   \n",
              "2  62.0            80.0             1.010      2.0    3.0          normal   \n",
              "3  48.0            70.0             1.005      4.0    0.0          normal   \n",
              "4  51.0            80.0             1.010      2.0    0.0          normal   \n",
              "\n",
              "   pus cell pus cell clumps    bacteria  blood glucose random  ...  \\\n",
              "0    normal      notpresent  notpresent                 121.0  ...   \n",
              "1    normal      notpresent  notpresent                   NaN  ...   \n",
              "2    normal      notpresent  notpresent                 423.0  ...   \n",
              "3  abnormal         present  notpresent                 117.0  ...   \n",
              "4    normal      notpresent  notpresent                 106.0  ...   \n",
              "\n",
              "   packed cell volume  white blood cell count  red blood cell count  \\\n",
              "0                44.0                  7800.0                   5.2   \n",
              "1                38.0                  6000.0                   NaN   \n",
              "2                31.0                  7500.0                   NaN   \n",
              "3                32.0                  6700.0                   3.9   \n",
              "4                35.0                  7300.0                   4.6   \n",
              "\n",
              "   ypertension  diabetes mellitus  coronary artery disease  appetite  \\\n",
              "0          yes                yes                       no      good   \n",
              "1           no                 no                       no      good   \n",
              "2           no                yes                       no      poor   \n",
              "3          yes                 no                       no      poor   \n",
              "4           no                 no                       no      good   \n",
              "\n",
              "   pedal edema anemia class  \n",
              "0           no     no   ckd  \n",
              "1           no     no   ckd  \n",
              "2           no    yes   ckd  \n",
              "3          yes    yes   ckd  \n",
              "4           no     no   ckd  \n",
              "\n",
              "[5 rows x 25 columns]"
            ]
          },
          "execution_count": 9,
          "metadata": {},
          "output_type": "execute_result"
        }
      ],
      "source": [
        "df.drop('id',axis=1,inplace=True)\n",
        "df.head()"
      ]
    },
    {
      "cell_type": "code",
      "execution_count": null,
      "metadata": {
        "id": "AT4FIFCdwpN8"
      },
      "outputs": [],
      "source": [
        "def extract_cat_num(df):\n",
        "    cat_col=[]\n",
        "    num_col=[]\n",
        "    for col in df.columns:\n",
        "        if df[col].dtype=='object':\n",
        "            cat_col.append(col)\n",
        "        elif df[col].dtype!='object':\n",
        "            num_col.append(col)\n",
        "    return cat_col, num_col"
      ]
    },
    {
      "cell_type": "code",
      "execution_count": null,
      "metadata": {
        "id": "_QXOUmV9wpN9"
      },
      "outputs": [],
      "source": [
        "cat_col,num_col=extract_cat_num(df)"
      ]
    },
    {
      "cell_type": "code",
      "execution_count": null,
      "metadata": {
        "id": "ILurodwjwpN9",
        "outputId": "28bed9b6-b6fa-4c9b-d80d-a7be4a2821d4"
      },
      "outputs": [
        {
          "name": "stdout",
          "output_type": "stream",
          "text": [
            " red blood cells has 2 numbers of values i.e. [nan 'normal' 'abnormal']\n",
            "  pus cell has 2 numbers of values i.e. ['normal' 'abnormal' nan]\n",
            " pus cell clumps has 2 numbers of values i.e. ['notpresent' 'present' nan]\n",
            " bacteria has 2 numbers of values i.e. ['notpresent' 'present' nan]\n",
            " ypertension has 2 numbers of values i.e. ['yes' 'no' nan]\n",
            " diabetes mellitus has 5 numbers of values i.e. ['yes' 'no' ' yes' '\\tno' '\\tyes' nan]\n",
            " coronary artery disease has 3 numbers of values i.e. ['no' 'yes' '\\tno' nan]\n",
            " appetite has 2 numbers of values i.e. ['good' 'poor' nan]\n",
            " pedal edema has 2 numbers of values i.e. ['no' 'yes' nan]\n",
            " anemia has 2 numbers of values i.e. ['no' 'yes' nan]\n",
            " class has 3 numbers of values i.e. ['ckd' 'ckd\\t' 'notckd']\n"
          ]
        }
      ],
      "source": [
        "for col in cat_col:\n",
        "    print(' {} has {} numbers of values i.e. {}'.format(col, df[col].nunique(),df[col].unique()))"
      ]
    },
    {
      "cell_type": "code",
      "execution_count": null,
      "metadata": {
        "id": "Fh4GppXiwpN9",
        "outputId": "83e15b48-b724-4ef3-a31e-584bba00cf4b"
      },
      "outputs": [
        {
          "name": "stdout",
          "output_type": "stream",
          "text": [
            " red blood cells has 2 numbers of values i.e. [nan 'normal' 'abnormal']\n",
            "  pus cell has 2 numbers of values i.e. ['normal' 'abnormal' nan]\n",
            " pus cell clumps has 2 numbers of values i.e. ['notpresent' 'present' nan]\n",
            " bacteria has 2 numbers of values i.e. ['notpresent' 'present' nan]\n",
            " ypertension has 2 numbers of values i.e. ['yes' 'no' nan]\n",
            " diabetes mellitus has 3 numbers of values i.e. ['yes' 'no' ' yes' nan]\n",
            " coronary artery disease has 2 numbers of values i.e. ['no' 'yes' nan]\n",
            " appetite has 2 numbers of values i.e. ['good' 'poor' nan]\n",
            " pedal edema has 2 numbers of values i.e. ['no' 'yes' nan]\n",
            " anemia has 2 numbers of values i.e. ['no' 'yes' nan]\n",
            " class has 2 numbers of values i.e. ['ckd' 'notckd']\n"
          ]
        }
      ],
      "source": [
        "df[\"diabetes mellitus\"]= df['diabetes mellitus'].replace(to_replace ={'\\tno':'no','\\tyes':'yes'})\n",
        "df[\"coronary artery disease\"]= df['coronary artery disease'].replace(to_replace ={'\\tno':'no','\\tyes':'yes'})\n",
        "df['class'] = df['class'].replace(to_replace={'ckd\\t':'ckd'})\n",
        "for col in cat_col:\n",
        "    print(' {} has {} numbers of values i.e. {}'.format(col, df[col].nunique(),df[col].unique()))"
      ]
    },
    {
      "cell_type": "code",
      "execution_count": null,
      "metadata": {
        "id": "5dqur4xpwpN-",
        "outputId": "1b14d803-ec16-4960-84ef-40b3fa60781c"
      },
      "outputs": [
        {
          "data": {
            "text/plain": [
              "red blood cells            152\n",
              "red blood cell count       131\n",
              "white blood cell count     106\n",
              "potassium                   88\n",
              "sodium                      87\n",
              "packed cell volume          71\n",
              " pus cell                   65\n",
              "haemoglobin                 52\n",
              "sugar                       49\n",
              "specific gravity            47\n",
              "albumin                     46\n",
              "blood glucose random        44\n",
              "blood urea                  19\n",
              "serum creatinine            17\n",
              "blood pressure              12\n",
              "age                          9\n",
              "bacteria                     4\n",
              "pus cell clumps              4\n",
              "ypertension                  2\n",
              "diabetes mellitus            2\n",
              "coronary artery disease      2\n",
              "anemia                       1\n",
              "appetite                     1\n",
              "pedal edema                  1\n",
              "class                        0\n",
              "dtype: int64"
            ]
          },
          "execution_count": 14,
          "metadata": {},
          "output_type": "execute_result"
        }
      ],
      "source": [
        "df.isna().sum().sort_values(ascending =False)\n"
      ]
    },
    {
      "cell_type": "code",
      "execution_count": null,
      "metadata": {
        "id": "E2dd4iNCwpN-"
      },
      "outputs": [],
      "source": [
        "def random_value_imputation(df,feature):\n",
        "    random_sample=df[feature].dropna().sample(df[feature].isnull().sum())\n",
        "    random_sample.index=df[df[feature].isnull()].index\n",
        "    df.loc[df[feature].isnull(),feature]=random_sample\n",
        "    print(\"The missing values\",feature,\" are \", df[feature].isnull().sum())"
      ]
    },
    {
      "cell_type": "code",
      "execution_count": null,
      "metadata": {
        "id": "8jRx0-iYwpN-",
        "outputId": "3c982247-9127-4347-9599-4a31870739e7"
      },
      "outputs": [
        {
          "name": "stdout",
          "output_type": "stream",
          "text": [
            "The missing values age  are  0\n",
            "The missing values blood pressure  are  0\n",
            "The missing values specific gravity  are  0\n",
            "The missing values albumin  are  0\n",
            "The missing values sugar  are  0\n",
            "The missing values blood glucose random  are  0\n",
            "The missing values blood urea  are  0\n",
            "The missing values serum creatinine  are  0\n",
            "The missing values sodium  are  0\n",
            "The missing values potassium  are  0\n",
            "The missing values haemoglobin  are  0\n",
            "The missing values packed cell volume  are  0\n",
            "The missing values white blood cell count  are  0\n",
            "The missing values red blood cell count  are  0\n"
          ]
        }
      ],
      "source": [
        "df[num_col].isnull().sum()\n",
        "for f in num_col:\n",
        "    random_value_imputation(df,f)"
      ]
    },
    {
      "cell_type": "code",
      "execution_count": null,
      "metadata": {
        "id": "9SIHCMHzwpN_",
        "outputId": "a570c705-dddb-4453-b739-a07a69755c13"
      },
      "outputs": [
        {
          "name": "stdout",
          "output_type": "stream",
          "text": [
            "The missing values red blood cells  are  0\n",
            "The missing values  pus cell  are  0\n",
            "The missing values pus cell clumps  are  0\n",
            "The missing values bacteria  are  0\n",
            "The missing values ypertension  are  0\n",
            "The missing values diabetes mellitus  are  0\n",
            "The missing values coronary artery disease  are  0\n",
            "The missing values appetite  are  0\n",
            "The missing values pedal edema  are  0\n",
            "The missing values anemia  are  0\n",
            "The missing values class  are  0\n"
          ]
        }
      ],
      "source": [
        "df[cat_col].isnull().sum()\n",
        "for f in cat_col:\n",
        "    random_value_imputation(df,f)"
      ]
    },
    {
      "cell_type": "code",
      "execution_count": null,
      "metadata": {
        "id": "UFY0D_TrwpN_",
        "outputId": "c8d99b51-68d7-4841-b76f-8fd0763817b3"
      },
      "outputs": [
        {
          "name": "stdout",
          "output_type": "stream",
          "text": [
            "      age  blood pressure  specific gravity  albumin  sugar red blood cells  \\\n",
            "0    48.0            80.0             1.020      1.0    0.0        abnormal   \n",
            "1     7.0            50.0             1.020      4.0    0.0          normal   \n",
            "2    62.0            80.0             1.010      2.0    3.0          normal   \n",
            "3    48.0            70.0             1.005      4.0    0.0          normal   \n",
            "4    51.0            80.0             1.010      2.0    0.0          normal   \n",
            "..    ...             ...               ...      ...    ...             ...   \n",
            "395  55.0            80.0             1.020      0.0    0.0          normal   \n",
            "396  42.0            70.0             1.025      0.0    0.0          normal   \n",
            "397  12.0            80.0             1.020      0.0    0.0          normal   \n",
            "398  17.0            60.0             1.025      0.0    0.0          normal   \n",
            "399  58.0            80.0             1.025      0.0    0.0          normal   \n",
            "\n",
            "     pus cell pus cell clumps    bacteria  blood glucose random  ...  \\\n",
            "0      normal      notpresent  notpresent                 121.0  ...   \n",
            "1      normal      notpresent  notpresent                 109.0  ...   \n",
            "2      normal      notpresent  notpresent                 423.0  ...   \n",
            "3    abnormal         present  notpresent                 117.0  ...   \n",
            "4      normal      notpresent  notpresent                 106.0  ...   \n",
            "..        ...             ...         ...                   ...  ...   \n",
            "395    normal      notpresent  notpresent                 140.0  ...   \n",
            "396    normal      notpresent  notpresent                  75.0  ...   \n",
            "397    normal      notpresent  notpresent                 100.0  ...   \n",
            "398    normal      notpresent  notpresent                 114.0  ...   \n",
            "399    normal      notpresent  notpresent                 131.0  ...   \n",
            "\n",
            "     packed cell volume  white blood cell count  red blood cell count  \\\n",
            "0                  44.0                  7800.0                   5.2   \n",
            "1                  38.0                  6000.0                   4.5   \n",
            "2                  31.0                  7500.0                   5.0   \n",
            "3                  32.0                  6700.0                   3.9   \n",
            "4                  35.0                  7300.0                   4.6   \n",
            "..                  ...                     ...                   ...   \n",
            "395                47.0                  6700.0                   4.9   \n",
            "396                54.0                  7800.0                   6.2   \n",
            "397                49.0                  6600.0                   5.4   \n",
            "398                51.0                  7200.0                   5.9   \n",
            "399                53.0                  6800.0                   6.1   \n",
            "\n",
            "     ypertension  diabetes mellitus  coronary artery disease  appetite  \\\n",
            "0            yes                yes                       no      good   \n",
            "1             no                 no                       no      good   \n",
            "2             no                yes                       no      poor   \n",
            "3            yes                 no                       no      poor   \n",
            "4             no                 no                       no      good   \n",
            "..           ...                ...                      ...       ...   \n",
            "395           no                 no                       no      good   \n",
            "396           no                 no                       no      good   \n",
            "397           no                 no                       no      good   \n",
            "398           no                 no                       no      good   \n",
            "399           no                 no                       no      good   \n",
            "\n",
            "     pedal edema anemia   class  \n",
            "0             no     no     ckd  \n",
            "1             no     no     ckd  \n",
            "2             no    yes     ckd  \n",
            "3            yes    yes     ckd  \n",
            "4             no     no     ckd  \n",
            "..           ...    ...     ...  \n",
            "395           no     no  notckd  \n",
            "396           no     no  notckd  \n",
            "397           no     no  notckd  \n",
            "398           no     no  notckd  \n",
            "399           no     no  notckd  \n",
            "\n",
            "[400 rows x 25 columns]\n"
          ]
        }
      ],
      "source": [
        "print(df)"
      ]
    },
    {
      "cell_type": "code",
      "execution_count": null,
      "metadata": {
        "id": "ROuXxEJRwpN_",
        "outputId": "0bb86c2e-604c-4ec7-ffeb-99dcfeed10b5"
      },
      "outputs": [
        {
          "data": {
            "image/png": "[encoded data removed]",
            "text/plain": [
              "<Figure size 2160x1440 with 14 Axes>"
            ]
          },
          "metadata": {
            "needs_background": "light"
          },
          "output_type": "display_data"
        }
      ],
      "source": [
        "plt.figure(figsize=(30,20))\n",
        "\n",
        "for i,feature in enumerate(num_col):\n",
        "    plt.subplot(5,3,i+1)\n",
        "    df[feature].hist()\n",
        "    plt.title(feature)"
      ]
    },
    {
      "cell_type": "code",
      "execution_count": null,
      "metadata": {
        "id": "0jfNWkZRwpOA",
        "outputId": "cbdac7af-2319-4c2f-d37e-a5735a938f46"
      },
      "outputs": [
        {
          "name": "stderr",
          "output_type": "stream",
          "text": [
            "C:\\Users\\HP\\anaconda3\\lib\\site-packages\\seaborn\\_decorators.py:36: FutureWarning: Pass the following variable as a keyword arg: x. From version 0.12, the only valid positional argument will be `data`, and passing other arguments without an explicit keyword will result in an error or misinterpretation.\n",
            "  warnings.warn(\n",
            "C:\\Users\\HP\\anaconda3\\lib\\site-packages\\seaborn\\_decorators.py:36: FutureWarning: Pass the following variable as a keyword arg: x. From version 0.12, the only valid positional argument will be `data`, and passing other arguments without an explicit keyword will result in an error or misinterpretation.\n",
            "  warnings.warn(\n",
            "C:\\Users\\HP\\anaconda3\\lib\\site-packages\\seaborn\\_decorators.py:36: FutureWarning: Pass the following variable as a keyword arg: x. From version 0.12, the only valid positional argument will be `data`, and passing other arguments without an explicit keyword will result in an error or misinterpretation.\n",
            "  warnings.warn(\n",
            "C:\\Users\\HP\\anaconda3\\lib\\site-packages\\seaborn\\_decorators.py:36: FutureWarning: Pass the following variable as a keyword arg: x. From version 0.12, the only valid positional argument will be `data`, and passing other arguments without an explicit keyword will result in an error or misinterpretation.\n",
            "  warnings.warn(\n",
            "C:\\Users\\HP\\anaconda3\\lib\\site-packages\\seaborn\\_decorators.py:36: FutureWarning: Pass the following variable as a keyword arg: x. From version 0.12, the only valid positional argument will be `data`, and passing other arguments without an explicit keyword will result in an error or misinterpretation.\n",
            "  warnings.warn(\n",
            "C:\\Users\\HP\\anaconda3\\lib\\site-packages\\seaborn\\_decorators.py:36: FutureWarning: Pass the following variable as a keyword arg: x. From version 0.12, the only valid positional argument will be `data`, and passing other arguments without an explicit keyword will result in an error or misinterpretation.\n",
            "  warnings.warn(\n",
            "C:\\Users\\HP\\anaconda3\\lib\\site-packages\\seaborn\\_decorators.py:36: FutureWarning: Pass the following variable as a keyword arg: x. From version 0.12, the only valid positional argument will be `data`, and passing other arguments without an explicit keyword will result in an error or misinterpretation.\n",
            "  warnings.warn(\n",
            "C:\\Users\\HP\\anaconda3\\lib\\site-packages\\seaborn\\_decorators.py:36: FutureWarning: Pass the following variable as a keyword arg: x. From version 0.12, the only valid positional argument will be `data`, and passing other arguments without an explicit keyword will result in an error or misinterpretation.\n",
            "  warnings.warn(\n",
            "C:\\Users\\HP\\anaconda3\\lib\\site-packages\\seaborn\\_decorators.py:36: FutureWarning: Pass the following variable as a keyword arg: x. From version 0.12, the only valid positional argument will be `data`, and passing other arguments without an explicit keyword will result in an error or misinterpretation.\n",
            "  warnings.warn(\n",
            "C:\\Users\\HP\\anaconda3\\lib\\site-packages\\seaborn\\_decorators.py:36: FutureWarning: Pass the following variable as a keyword arg: x. From version 0.12, the only valid positional argument will be `data`, and passing other arguments without an explicit keyword will result in an error or misinterpretation.\n",
            "  warnings.warn(\n",
            "C:\\Users\\HP\\anaconda3\\lib\\site-packages\\seaborn\\_decorators.py:36: FutureWarning: Pass the following variable as a keyword arg: x. From version 0.12, the only valid positional argument will be `data`, and passing other arguments without an explicit keyword will result in an error or misinterpretation.\n",
            "  warnings.warn(\n"
          ]
        },
        {
          "data": {
            "image/png": "[encoded data removed]",
            "text/plain": [
              "<Figure size 2160x1440 with 11 Axes>"
            ]
          },
          "metadata": {
            "needs_background": "light"
          },
          "output_type": "display_data"
        }
      ],
      "source": [
        "plt.figure(figsize=(30,20))\n",
        "for i,feature in enumerate(cat_col):\n",
        "    plt.subplot(4,3,i+1)\n",
        "    sns.countplot(df[feature])"
      ]
    },
    {
      "cell_type": "code",
      "execution_count": null,
      "metadata": {
        "id": "_O21ZWYOwpOA",
        "outputId": "f1df0e92-74b5-4e57-bc73-05d37c9e04f8"
      },
      "outputs": [
        {
          "data": {
            "text/plain": [
              "<AxesSubplot:>"
            ]
          },
          "execution_count": 21,
          "metadata": {},
          "output_type": "execute_result"
        },
        {
          "data": {
            "image/png": "[encoded data removed]",
            "text/plain": [
              "<Figure size 1296x576 with 2 Axes>"
            ]
          },
          "metadata": {
            "needs_background": "light"
          },
          "output_type": "display_data"
        }
      ],
      "source": [
        "plt.figure(figsize=(18,8)) \n",
        "sns.heatmap(df.corr(),annot=True)"
      ]
    },
    {
      "cell_type": "code",
      "execution_count": null,
      "metadata": {
        "id": "g9zaI5-3wpOA",
        "outputId": "3797aa47-cb6d-4067-fe7f-7bb2eb7e5543"
      },
      "outputs": [
        {
          "name": "stdout",
          "output_type": "stream",
          "text": [
            "Requirement already satisfied: tabulate in c:\\users\\hp\\anaconda3\\lib\\site-packages (0.9.0)\n"
          ]
        }
      ],
      "source": [
        "!pip install tabulate\n",
        "from tabulate import tabulate"
      ]
    },
    {
      "cell_type": "code",
      "execution_count": null,
      "metadata": {
        "id": "XkT4zv90wpOB",
        "outputId": "b30696d8-4f02-4ddd-c81b-2dd12bbfac6b"
      },
      "outputs": [
        {
          "name": "stdout",
          "output_type": "stream",
          "text": [
            "Name                      count        mean    median       min        max\n",
            "----------------------  -------  ----------  --------  --------  ---------\n",
            "age                         400    51.4775      54.5      2         90\n",
            "blood pressure              400    76.4         80       50        180\n",
            "specific gravity            400     1.01744      1.02     1.005      1.025\n",
            "albumin                     400     1.0375       0        0          5\n",
            "sugar                       400     0.435        0        0          5\n",
            "blood glucose random        400   151.597      121.5     22        490\n",
            "blood urea                  400    57.9805      42        1.5      391\n",
            "serum creatinine            400     3.13087      1.3      0.4       76\n",
            "sodium                      400   137.526      138        4.5      163\n",
            "potassium                   400     4.65125      4.35     2.5       47\n",
            "haemoglobin                 400    12.5545      12.7      3.1       17.8\n",
            "packed cell volume          400    38.965       40        9         54\n",
            "white blood cell count      400  8369.75      8000     2200      26400\n",
            "red blood cell count        400     4.73825      4.8      2.1        8\n"
          ]
        }
      ],
      "source": [
        "g=[['Name','count','mean','median','min','max']]\n",
        "for i in df.columns:\n",
        "    if df[i].dtypes=='float64':\n",
        "        d=[i, df[i].count(), df[i].mean(), df[i].median(), df[i].min(), df[i].max()]\n",
        "        g.append(d)      \n",
        "print(tabulate(g, headers='firstrow'))"
      ]
    },
    {
      "cell_type": "markdown",
      "metadata": {
        "id": "rKZIg0D1wpOB"
      },
      "source": [
        "# DEPENDENT AND INDEPENDENT VARIABLES"
      ]
    },
    {
      "cell_type": "code",
      "execution_count": null,
      "metadata": {
        "id": "I6UrrWC4wpOB",
        "outputId": "0fe07e80-0d7c-4516-9e37-2bfef91810d5"
      },
      "outputs": [
        {
          "data": {
            "text/html": [
              "<div>\n",
              "<style scoped>\n",
              "    .dataframe tbody tr th:only-of-type {\n",
              "        vertical-align: middle;\n",
              "    }\n",
              "\n",
              "    .dataframe tbody tr th {\n",
              "        vertical-align: top;\n",
              "    }\n",
              "\n",
              "    .dataframe thead th {\n",
              "        text-align: right;\n",
              "    }\n",
              "</style>\n",
              "<table border=\"1\" class=\"dataframe\">\n",
              "  <thead>\n",
              "    <tr style=\"text-align: right;\">\n",
              "      <th></th>\n",
              "      <th>age</th>\n",
              "      <th>blood pressure</th>\n",
              "      <th>specific gravity</th>\n",
              "      <th>albumin</th>\n",
              "      <th>sugar</th>\n",
              "      <th>red blood cells</th>\n",
              "      <th>pus cell</th>\n",
              "      <th>pus cell clumps</th>\n",
              "      <th>bacteria</th>\n",
              "      <th>blood glucose random</th>\n",
              "      <th>...</th>\n",
              "      <th>packed cell volume</th>\n",
              "      <th>white blood cell count</th>\n",
              "      <th>red blood cell count</th>\n",
              "      <th>ypertension</th>\n",
              "      <th>diabetes mellitus</th>\n",
              "      <th>coronary artery disease</th>\n",
              "      <th>appetite</th>\n",
              "      <th>pedal edema</th>\n",
              "      <th>anemia</th>\n",
              "      <th>class</th>\n",
              "    </tr>\n",
              "  </thead>\n",
              "  <tbody>\n",
              "    <tr>\n",
              "      <th>0</th>\n",
              "      <td>48.0</td>\n",
              "      <td>80.0</td>\n",
              "      <td>1.020</td>\n",
              "      <td>1.0</td>\n",
              "      <td>0.0</td>\n",
              "      <td>0</td>\n",
              "      <td>1</td>\n",
              "      <td>0</td>\n",
              "      <td>0</td>\n",
              "      <td>121.0</td>\n",
              "      <td>...</td>\n",
              "      <td>44.0</td>\n",
              "      <td>7800.0</td>\n",
              "      <td>5.2</td>\n",
              "      <td>1</td>\n",
              "      <td>2</td>\n",
              "      <td>0</td>\n",
              "      <td>0</td>\n",
              "      <td>0</td>\n",
              "      <td>0</td>\n",
              "      <td>0</td>\n",
              "    </tr>\n",
              "    <tr>\n",
              "      <th>1</th>\n",
              "      <td>7.0</td>\n",
              "      <td>50.0</td>\n",
              "      <td>1.020</td>\n",
              "      <td>4.0</td>\n",
              "      <td>0.0</td>\n",
              "      <td>1</td>\n",
              "      <td>1</td>\n",
              "      <td>0</td>\n",
              "      <td>0</td>\n",
              "      <td>109.0</td>\n",
              "      <td>...</td>\n",
              "      <td>38.0</td>\n",
              "      <td>6000.0</td>\n",
              "      <td>4.5</td>\n",
              "      <td>0</td>\n",
              "      <td>1</td>\n",
              "      <td>0</td>\n",
              "      <td>0</td>\n",
              "      <td>0</td>\n",
              "      <td>0</td>\n",
              "      <td>0</td>\n",
              "    </tr>\n",
              "    <tr>\n",
              "      <th>2</th>\n",
              "      <td>62.0</td>\n",
              "      <td>80.0</td>\n",
              "      <td>1.010</td>\n",
              "      <td>2.0</td>\n",
              "      <td>3.0</td>\n",
              "      <td>1</td>\n",
              "      <td>1</td>\n",
              "      <td>0</td>\n",
              "      <td>0</td>\n",
              "      <td>423.0</td>\n",
              "      <td>...</td>\n",
              "      <td>31.0</td>\n",
              "      <td>7500.0</td>\n",
              "      <td>5.0</td>\n",
              "      <td>0</td>\n",
              "      <td>2</td>\n",
              "      <td>0</td>\n",
              "      <td>1</td>\n",
              "      <td>0</td>\n",
              "      <td>1</td>\n",
              "      <td>0</td>\n",
              "    </tr>\n",
              "    <tr>\n",
              "      <th>3</th>\n",
              "      <td>48.0</td>\n",
              "      <td>70.0</td>\n",
              "      <td>1.005</td>\n",
              "      <td>4.0</td>\n",
              "      <td>0.0</td>\n",
              "      <td>1</td>\n",
              "      <td>0</td>\n",
              "      <td>1</td>\n",
              "      <td>0</td>\n",
              "      <td>117.0</td>\n",
              "      <td>...</td>\n",
              "      <td>32.0</td>\n",
              "      <td>6700.0</td>\n",
              "      <td>3.9</td>\n",
              "      <td>1</td>\n",
              "      <td>1</td>\n",
              "      <td>0</td>\n",
              "      <td>1</td>\n",
              "      <td>1</td>\n",
              "      <td>1</td>\n",
              "      <td>0</td>\n",
              "    </tr>\n",
              "    <tr>\n",
              "      <th>4</th>\n",
              "      <td>51.0</td>\n",
              "      <td>80.0</td>\n",
              "      <td>1.010</td>\n",
              "      <td>2.0</td>\n",
              "      <td>0.0</td>\n",
              "      <td>1</td>\n",
              "      <td>1</td>\n",
              "      <td>0</td>\n",
              "      <td>0</td>\n",
              "      <td>106.0</td>\n",
              "      <td>...</td>\n",
              "      <td>35.0</td>\n",
              "      <td>7300.0</td>\n",
              "      <td>4.6</td>\n",
              "      <td>0</td>\n",
              "      <td>1</td>\n",
              "      <td>0</td>\n",
              "      <td>0</td>\n",
              "      <td>0</td>\n",
              "      <td>0</td>\n",
              "      <td>0</td>\n",
              "    </tr>\n",
              "  </tbody>\n",
              "</table>\n",
              "<p>5 rows × 25 columns</p>\n",
              "</div>"
            ],
            "text/plain": [
              "    age  blood pressure  specific gravity  albumin  sugar  red blood cells  \\\n",
              "0  48.0            80.0             1.020      1.0    0.0                0   \n",
              "1   7.0            50.0             1.020      4.0    0.0                1   \n",
              "2  62.0            80.0             1.010      2.0    3.0                1   \n",
              "3  48.0            70.0             1.005      4.0    0.0                1   \n",
              "4  51.0            80.0             1.010      2.0    0.0                1   \n",
              "\n",
              "    pus cell  pus cell clumps  bacteria  blood glucose random  ...  \\\n",
              "0          1                0         0                 121.0  ...   \n",
              "1          1                0         0                 109.0  ...   \n",
              "2          1                0         0                 423.0  ...   \n",
              "3          0                1         0                 117.0  ...   \n",
              "4          1                0         0                 106.0  ...   \n",
              "\n",
              "   packed cell volume  white blood cell count  red blood cell count  \\\n",
              "0                44.0                  7800.0                   5.2   \n",
              "1                38.0                  6000.0                   4.5   \n",
              "2                31.0                  7500.0                   5.0   \n",
              "3                32.0                  6700.0                   3.9   \n",
              "4                35.0                  7300.0                   4.6   \n",
              "\n",
              "   ypertension  diabetes mellitus  coronary artery disease  appetite  \\\n",
              "0            1                  2                        0         0   \n",
              "1            0                  1                        0         0   \n",
              "2            0                  2                        0         1   \n",
              "3            1                  1                        0         1   \n",
              "4            0                  1                        0         0   \n",
              "\n",
              "   pedal edema  anemia  class  \n",
              "0            0       0      0  \n",
              "1            0       0      0  \n",
              "2            0       1      0  \n",
              "3            1       1      0  \n",
              "4            0       0      0  \n",
              "\n",
              "[5 rows x 25 columns]"
            ]
          },
          "execution_count": 24,
          "metadata": {},
          "output_type": "execute_result"
        }
      ],
      "source": [
        "from sklearn.preprocessing import LabelEncoder\n",
        "le=LabelEncoder()\n",
        "for col in cat_col:\n",
        "    df[col]=le.fit_transform(df[col])\n",
        "df.head()\n",
        "#0 is ckd and 1 is non ckd"
      ]
    },
    {
      "cell_type": "code",
      "execution_count": null,
      "metadata": {
        "id": "BiFtbw1nwpOB"
      },
      "outputs": [],
      "source": [
        "from sklearn.feature_selection import SelectKBest\n",
        "from sklearn.feature_selection import chi2"
      ]
    },
    {
      "cell_type": "code",
      "execution_count": null,
      "metadata": {
        "id": "-03Qv-tKwpOC"
      },
      "outputs": [],
      "source": [
        "ind_col=[col for col in df.columns if col!='class']\n",
        "dep_col='class'"
      ]
    },
    {
      "cell_type": "code",
      "execution_count": null,
      "metadata": {
        "id": "vilp8tWdwpOC"
      },
      "outputs": [],
      "source": [
        "x=df[ind_col]\n",
        "y=df[dep_col]"
      ]
    },
    {
      "cell_type": "code",
      "execution_count": null,
      "metadata": {
        "id": "jOoHoiqOwpOC",
        "outputId": "700c97fe-cede-41f6-8c7a-578b9d4706b3"
      },
      "outputs": [
        {
          "data": {
            "text/plain": [
              "array([1.13047063e+02, 7.85340314e+01, 5.42539878e-03, 2.42641124e+02,\n",
              "       1.04400000e+02, 1.00785276e+01, 1.54152505e+01, 2.26992248e+01,\n",
              "       1.32000000e+01, 2.50744136e+03, 2.63848470e+03, 3.45240347e+02,\n",
              "       2.83013319e+01, 5.28098934e+00, 1.23737956e+02, 3.20633748e+02,\n",
              "       1.08014427e+04, 2.05582318e+01, 8.56288288e+01, 1.99004975e+01,\n",
              "       2.04000000e+01, 4.92000000e+01, 4.30554113e+01, 3.60000000e+01])"
            ]
          },
          "execution_count": 28,
          "metadata": {},
          "output_type": "execute_result"
        }
      ],
      "source": [
        "ordered_rank_feature=SelectKBest(score_func=chi2,k=20)\n",
        "ordered_feature=ordered_rank_feature.fit(x,y)\n",
        "ordered_feature.scores_"
      ]
    },
    {
      "cell_type": "code",
      "execution_count": null,
      "metadata": {
        "id": "ATitgbrwwpOC"
      },
      "outputs": [],
      "source": [
        "df_score=pd.DataFrame(ordered_feature.scores_,columns=['score'])"
      ]
    },
    {
      "cell_type": "code",
      "execution_count": null,
      "metadata": {
        "id": "qvRu9IeGwpOC",
        "outputId": "4c153f22-f964-4d21-fcc3-293182a9d3fb"
      },
      "outputs": [
        {
          "data": {
            "text/html": [
              "<div>\n",
              "<style scoped>\n",
              "    .dataframe tbody tr th:only-of-type {\n",
              "        vertical-align: middle;\n",
              "    }\n",
              "\n",
              "    .dataframe tbody tr th {\n",
              "        vertical-align: top;\n",
              "    }\n",
              "\n",
              "    .dataframe thead th {\n",
              "        text-align: right;\n",
              "    }\n",
              "</style>\n",
              "<table border=\"1\" class=\"dataframe\">\n",
              "  <thead>\n",
              "    <tr style=\"text-align: right;\">\n",
              "      <th></th>\n",
              "      <th>feature</th>\n",
              "      <th>score</th>\n",
              "    </tr>\n",
              "  </thead>\n",
              "  <tbody>\n",
              "    <tr>\n",
              "      <th>0</th>\n",
              "      <td>age</td>\n",
              "      <td>113.047063</td>\n",
              "    </tr>\n",
              "    <tr>\n",
              "      <th>1</th>\n",
              "      <td>blood pressure</td>\n",
              "      <td>78.534031</td>\n",
              "    </tr>\n",
              "    <tr>\n",
              "      <th>2</th>\n",
              "      <td>specific gravity</td>\n",
              "      <td>0.005425</td>\n",
              "    </tr>\n",
              "    <tr>\n",
              "      <th>3</th>\n",
              "      <td>albumin</td>\n",
              "      <td>242.641124</td>\n",
              "    </tr>\n",
              "    <tr>\n",
              "      <th>4</th>\n",
              "      <td>sugar</td>\n",
              "      <td>104.400000</td>\n",
              "    </tr>\n",
              "  </tbody>\n",
              "</table>\n",
              "</div>"
            ],
            "text/plain": [
              "            feature       score\n",
              "0               age  113.047063\n",
              "1    blood pressure   78.534031\n",
              "2  specific gravity    0.005425\n",
              "3           albumin  242.641124\n",
              "4             sugar  104.400000"
            ]
          },
          "execution_count": 30,
          "metadata": {},
          "output_type": "execute_result"
        }
      ],
      "source": [
        "df_x=pd.DataFrame(x.columns,columns=['feature'])\n",
        "features_rank=pd.concat([df_x,df_score],axis=1)\n",
        "features_rank.head()"
      ]
    },
    {
      "cell_type": "code",
      "execution_count": null,
      "metadata": {
        "id": "bub2lfilwpOC",
        "outputId": "9fc59bb7-f956-4c4c-9347-8d004a32c7fc"
      },
      "outputs": [
        {
          "data": {
            "text/plain": [
              "10801.44269542101"
            ]
          },
          "execution_count": 31,
          "metadata": {},
          "output_type": "execute_result"
        }
      ],
      "source": [
        "features_rank['score'].max()"
      ]
    },
    {
      "cell_type": "code",
      "execution_count": null,
      "metadata": {
        "id": "x623ZIQ0wpOD",
        "outputId": "31855ff8-6a6c-4a09-e8e1-1b88c1165228"
      },
      "outputs": [
        {
          "data": {
            "text/html": [
              "<div>\n",
              "<style scoped>\n",
              "    .dataframe tbody tr th:only-of-type {\n",
              "        vertical-align: middle;\n",
              "    }\n",
              "\n",
              "    .dataframe tbody tr th {\n",
              "        vertical-align: top;\n",
              "    }\n",
              "\n",
              "    .dataframe thead th {\n",
              "        text-align: right;\n",
              "    }\n",
              "</style>\n",
              "<table border=\"1\" class=\"dataframe\">\n",
              "  <thead>\n",
              "    <tr style=\"text-align: right;\">\n",
              "      <th></th>\n",
              "      <th>feature</th>\n",
              "      <th>score</th>\n",
              "    </tr>\n",
              "  </thead>\n",
              "  <tbody>\n",
              "    <tr>\n",
              "      <th>16</th>\n",
              "      <td>white blood cell count</td>\n",
              "      <td>10801.442695</td>\n",
              "    </tr>\n",
              "    <tr>\n",
              "      <th>10</th>\n",
              "      <td>blood urea</td>\n",
              "      <td>2638.484696</td>\n",
              "    </tr>\n",
              "    <tr>\n",
              "      <th>9</th>\n",
              "      <td>blood glucose random</td>\n",
              "      <td>2507.441360</td>\n",
              "    </tr>\n",
              "    <tr>\n",
              "      <th>11</th>\n",
              "      <td>serum creatinine</td>\n",
              "      <td>345.240347</td>\n",
              "    </tr>\n",
              "    <tr>\n",
              "      <th>15</th>\n",
              "      <td>packed cell volume</td>\n",
              "      <td>320.633748</td>\n",
              "    </tr>\n",
              "    <tr>\n",
              "      <th>3</th>\n",
              "      <td>albumin</td>\n",
              "      <td>242.641124</td>\n",
              "    </tr>\n",
              "    <tr>\n",
              "      <th>14</th>\n",
              "      <td>haemoglobin</td>\n",
              "      <td>123.737956</td>\n",
              "    </tr>\n",
              "    <tr>\n",
              "      <th>0</th>\n",
              "      <td>age</td>\n",
              "      <td>113.047063</td>\n",
              "    </tr>\n",
              "    <tr>\n",
              "      <th>4</th>\n",
              "      <td>sugar</td>\n",
              "      <td>104.400000</td>\n",
              "    </tr>\n",
              "    <tr>\n",
              "      <th>18</th>\n",
              "      <td>ypertension</td>\n",
              "      <td>85.628829</td>\n",
              "    </tr>\n",
              "  </tbody>\n",
              "</table>\n",
              "</div>"
            ],
            "text/plain": [
              "                   feature         score\n",
              "16  white blood cell count  10801.442695\n",
              "10              blood urea   2638.484696\n",
              "9     blood glucose random   2507.441360\n",
              "11        serum creatinine    345.240347\n",
              "15      packed cell volume    320.633748\n",
              "3                  albumin    242.641124\n",
              "14             haemoglobin    123.737956\n",
              "0                      age    113.047063\n",
              "4                    sugar    104.400000\n",
              "18             ypertension     85.628829"
            ]
          },
          "execution_count": 32,
          "metadata": {},
          "output_type": "execute_result"
        }
      ],
      "source": [
        "features_rank.nlargest(10,'score')"
      ]
    },
    {
      "cell_type": "code",
      "execution_count": null,
      "metadata": {
        "id": "zUy1c05DwpOD",
        "outputId": "1f268bb7-7e76-4892-a074-900707876fc4"
      },
      "outputs": [
        {
          "data": {
            "text/plain": [
              "array(['white blood cell count', 'blood urea', 'blood glucose random',\n",
              "       'serum creatinine', 'packed cell volume', 'albumin', 'haemoglobin',\n",
              "       'age', 'sugar', 'ypertension'], dtype=object)"
            ]
          },
          "execution_count": 33,
          "metadata": {},
          "output_type": "execute_result"
        }
      ],
      "source": [
        "selected_columns=features_rank.nlargest(10,'score')['feature'].values\n",
        "selected_columns"
      ]
    },
    {
      "cell_type": "code",
      "execution_count": null,
      "metadata": {
        "id": "sLwNjKRywpOD",
        "outputId": "9dcce290-c88c-4010-d424-2f197cde43fa"
      },
      "outputs": [
        {
          "data": {
            "text/html": [
              "<div>\n",
              "<style scoped>\n",
              "    .dataframe tbody tr th:only-of-type {\n",
              "        vertical-align: middle;\n",
              "    }\n",
              "\n",
              "    .dataframe tbody tr th {\n",
              "        vertical-align: top;\n",
              "    }\n",
              "\n",
              "    .dataframe thead th {\n",
              "        text-align: right;\n",
              "    }\n",
              "</style>\n",
              "<table border=\"1\" class=\"dataframe\">\n",
              "  <thead>\n",
              "    <tr style=\"text-align: right;\">\n",
              "      <th></th>\n",
              "      <th>white blood cell count</th>\n",
              "      <th>blood urea</th>\n",
              "      <th>blood glucose random</th>\n",
              "      <th>serum creatinine</th>\n",
              "      <th>packed cell volume</th>\n",
              "      <th>albumin</th>\n",
              "      <th>haemoglobin</th>\n",
              "      <th>age</th>\n",
              "      <th>sugar</th>\n",
              "      <th>ypertension</th>\n",
              "    </tr>\n",
              "  </thead>\n",
              "  <tbody>\n",
              "    <tr>\n",
              "      <th>0</th>\n",
              "      <td>7800.0</td>\n",
              "      <td>36.0</td>\n",
              "      <td>121.0</td>\n",
              "      <td>1.2</td>\n",
              "      <td>44.0</td>\n",
              "      <td>1.0</td>\n",
              "      <td>15.4</td>\n",
              "      <td>48.0</td>\n",
              "      <td>0.0</td>\n",
              "      <td>1</td>\n",
              "    </tr>\n",
              "    <tr>\n",
              "      <th>1</th>\n",
              "      <td>6000.0</td>\n",
              "      <td>18.0</td>\n",
              "      <td>109.0</td>\n",
              "      <td>0.8</td>\n",
              "      <td>38.0</td>\n",
              "      <td>4.0</td>\n",
              "      <td>11.3</td>\n",
              "      <td>7.0</td>\n",
              "      <td>0.0</td>\n",
              "      <td>0</td>\n",
              "    </tr>\n",
              "    <tr>\n",
              "      <th>2</th>\n",
              "      <td>7500.0</td>\n",
              "      <td>53.0</td>\n",
              "      <td>423.0</td>\n",
              "      <td>1.8</td>\n",
              "      <td>31.0</td>\n",
              "      <td>2.0</td>\n",
              "      <td>9.6</td>\n",
              "      <td>62.0</td>\n",
              "      <td>3.0</td>\n",
              "      <td>0</td>\n",
              "    </tr>\n",
              "    <tr>\n",
              "      <th>3</th>\n",
              "      <td>6700.0</td>\n",
              "      <td>56.0</td>\n",
              "      <td>117.0</td>\n",
              "      <td>3.8</td>\n",
              "      <td>32.0</td>\n",
              "      <td>4.0</td>\n",
              "      <td>11.2</td>\n",
              "      <td>48.0</td>\n",
              "      <td>0.0</td>\n",
              "      <td>1</td>\n",
              "    </tr>\n",
              "    <tr>\n",
              "      <th>4</th>\n",
              "      <td>7300.0</td>\n",
              "      <td>26.0</td>\n",
              "      <td>106.0</td>\n",
              "      <td>1.4</td>\n",
              "      <td>35.0</td>\n",
              "      <td>2.0</td>\n",
              "      <td>11.6</td>\n",
              "      <td>51.0</td>\n",
              "      <td>0.0</td>\n",
              "      <td>0</td>\n",
              "    </tr>\n",
              "  </tbody>\n",
              "</table>\n",
              "</div>"
            ],
            "text/plain": [
              "   white blood cell count  blood urea  blood glucose random  serum creatinine  \\\n",
              "0                  7800.0        36.0                 121.0               1.2   \n",
              "1                  6000.0        18.0                 109.0               0.8   \n",
              "2                  7500.0        53.0                 423.0               1.8   \n",
              "3                  6700.0        56.0                 117.0               3.8   \n",
              "4                  7300.0        26.0                 106.0               1.4   \n",
              "\n",
              "   packed cell volume  albumin  haemoglobin   age  sugar  ypertension  \n",
              "0                44.0      1.0         15.4  48.0    0.0            1  \n",
              "1                38.0      4.0         11.3   7.0    0.0            0  \n",
              "2                31.0      2.0          9.6  62.0    3.0            0  \n",
              "3                32.0      4.0         11.2  48.0    0.0            1  \n",
              "4                35.0      2.0         11.6  51.0    0.0            0  "
            ]
          },
          "execution_count": 34,
          "metadata": {},
          "output_type": "execute_result"
        }
      ],
      "source": [
        "x_new=df[selected_columns]\n",
        "x_new.head()"
      ]
    },
    {
      "cell_type": "code",
      "execution_count": null,
      "metadata": {
        "id": "bVRL5u4PwpOD",
        "outputId": "7f3073db-96b1-45f4-838b-a6ebbcf0683f"
      },
      "outputs": [
        {
          "data": {
            "text/plain": [
              "400"
            ]
          },
          "execution_count": 35,
          "metadata": {},
          "output_type": "execute_result"
        }
      ],
      "source": [
        "len(x_new)"
      ]
    },
    {
      "cell_type": "code",
      "execution_count": null,
      "metadata": {
        "id": "Y-NPdhOZwpOD",
        "outputId": "d5fccc02-361b-43ae-c410-163c712a148e"
      },
      "outputs": [
        {
          "data": {
            "text/plain": [
              "(400, 10)"
            ]
          },
          "execution_count": 36,
          "metadata": {},
          "output_type": "execute_result"
        }
      ],
      "source": [
        "x_new.shape"
      ]
    },
    {
      "cell_type": "markdown",
      "metadata": {
        "id": "D6Bm_aK0wpOE"
      },
      "source": [
        "# PREDICTION MODEL"
      ]
    },
    {
      "cell_type": "code",
      "execution_count": null,
      "metadata": {
        "id": "Er7QSToOwpOE"
      },
      "outputs": [],
      "source": [
        "from sklearn.model_selection import train_test_split"
      ]
    },
    {
      "cell_type": "code",
      "execution_count": null,
      "metadata": {
        "id": "E4jPnigdwpOE"
      },
      "outputs": [],
      "source": [
        "x_train, x_test, y_train, y_test = train_test_split(x, y, test_size = 0.2, random_state = 42)"
      ]
    },
    {
      "cell_type": "code",
      "execution_count": null,
      "metadata": {
        "id": "yTcLe0chwpOE"
      },
      "outputs": [],
      "source": [
        "from sklearn.ensemble import RandomForestClassifier"
      ]
    },
    {
      "cell_type": "code",
      "execution_count": null,
      "metadata": {
        "id": "Z1GObA4qwpOE",
        "outputId": "bb3540a5-2434-47d7-80f6-b3a151b8c06a"
      },
      "outputs": [
        {
          "data": {
            "text/plain": [
              "RandomForestClassifier(n_estimators=20)"
            ]
          },
          "execution_count": 40,
          "metadata": {},
          "output_type": "execute_result"
        }
      ],
      "source": [
        "model = RandomForestClassifier(n_estimators = 20)\n",
        "model.fit(x_train, y_train)"
      ]
    },
    {
      "cell_type": "code",
      "execution_count": null,
      "metadata": {
        "id": "mbdvB-ykwpOE"
      },
      "outputs": [],
      "source": [
        "from sklearn.metrics import confusion_matrix, accuracy_score"
      ]
    },
    {
      "cell_type": "code",
      "execution_count": null,
      "metadata": {
        "id": "CvLn4wOZwpOE",
        "outputId": "5357d312-e76a-4fa9-f4a3-1024109e749c"
      },
      "outputs": [
        {
          "data": {
            "text/plain": [
              "array([[52,  0],\n",
              "       [ 1, 27]], dtype=int64)"
            ]
          },
          "execution_count": 42,
          "metadata": {},
          "output_type": "execute_result"
        }
      ],
      "source": [
        "confusion_matrix(y_test, model.predict(x_test))"
      ]
    },
    {
      "cell_type": "code",
      "execution_count": null,
      "metadata": {
        "id": "GPsxw_RmwpOF",
        "outputId": "8c63ce8c-58e9-4e02-ceac-10bea36540f7"
      },
      "outputs": [
        {
          "name": "stdout",
          "output_type": "stream",
          "text": [
            "Accuracy is 98.75%\n"
          ]
        }
      ],
      "source": [
        "print(f\"Accuracy is {round(accuracy_score(y_test, model.predict(x_test))*100, 2)}%\")"
      ]
    },
    {
      "cell_type": "markdown",
      "metadata": {
        "id": "RPATlRxZwpOF"
      },
      "source": [
        "# Regressor"
      ]
    },
    {
      "cell_type": "code",
      "execution_count": null,
      "metadata": {
        "id": "kB60xDt-wpOG",
        "outputId": "b80035cd-dd62-4bc7-ed9d-fcfb22ec1e42"
      },
      "outputs": [
        {
          "data": {
            "text/plain": [
              "RandomForestRegressor()"
            ]
          },
          "execution_count": 45,
          "metadata": {},
          "output_type": "execute_result"
        }
      ],
      "source": [
        "from sklearn.ensemble import RandomForestRegressor\n",
        "reg=RandomForestRegressor()\n",
        "reg.fit(x_train,y_train)"
      ]
    },
    {
      "cell_type": "code",
      "execution_count": null,
      "metadata": {
        "id": "X8KLE8rpwpOG"
      },
      "outputs": [],
      "source": [
        "import pickle\n",
        "pickle. dump(x_new, open('randomclass_chronic', 'wb'))"
      ]
    },
    {
      "cell_type": "code",
      "execution_count": null,
      "metadata": {
        "id": "TURx5cDZwpOG"
      },
      "outputs": [],
      "source": [
        "y_pred=reg.predict(x_test)"
      ]
    },
    {
      "cell_type": "code",
      "execution_count": null,
      "metadata": {
        "id": "FH_17dhtwpOG"
      },
      "outputs": [],
      "source": [
        "pickle. dump(reg, open('randomreg_chronic', 'wb'))"
      ]
    },
    {
      "cell_type": "code",
      "execution_count": null,
      "metadata": {
        "id": "Sk1PSWVywpOH",
        "outputId": "32175bc4-0c34-46d1-946b-23d1ac09e6d0"
      },
      "outputs": [
        {
          "data": {
            "text/plain": [
              "array([0.11, 0.07, 0.06, 0.  , 0.  , 0.01, 1.  , 0.  , 0.92, 0.  , 0.  ,\n",
              "       1.  , 0.  , 0.  , 0.  , 0.01, 1.  , 1.  , 0.  , 1.  , 0.  , 0.01,\n",
              "       1.  , 1.  , 0.68, 1.  , 0.03, 0.1 , 1.  , 0.  , 1.  , 0.04, 1.  ,\n",
              "       0.01, 0.  , 0.24, 0.04, 1.  , 0.02, 0.  , 0.96, 0.02, 0.  , 0.  ,\n",
              "       0.09, 1.  , 0.02, 0.01, 0.01, 0.17, 0.01, 1.  , 1.  , 0.04, 1.  ,\n",
              "       0.  , 0.01, 0.  , 0.  , 0.02, 0.  , 0.95, 1.  , 0.01, 0.  , 0.  ,\n",
              "       1.  , 1.  , 1.  , 0.  , 1.  , 0.07, 0.01, 0.  , 1.  , 0.  , 0.  ,\n",
              "       1.  , 0.06, 1.  ])"
            ]
          },
          "execution_count": 51,
          "metadata": {},
          "output_type": "execute_result"
        }
      ],
      "source": [
        "y_pred"
      ]
    }
  ],
  "metadata": {
    "kernelspec": {
      "display_name": "Python 3",
      "language": "python",
      "name": "python3"
    },
    "language_info": {
      "codemirror_mode": {
        "name": "ipython",
        "version": 3
      },
      "file_extension": ".py",
      "mimetype": "text/x-python",
      "name": "python",
      "nbconvert_exporter": "python",
      "pygments_lexer": "ipython3",
      "version": "3.8.5"
    },
    "colab": {
      "provenance": []
    }
  },
  "nbformat": 4,
  "nbformat_minor": 0
}
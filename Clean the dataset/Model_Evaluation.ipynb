{
  "cells": [
    {
      "cell_type": "code",
      "execution_count": null,
      "metadata": {
        "id": "LTlHet5-ZJ4i"
      },
      "outputs": [],
      "source": [
        "import pandas as pd\n",
        "import numpy as np\n",
        "import matplotlib.pyplot as plt\n",
        "import seaborn as sns"
      ]
    },
    {
      "cell_type": "code",
      "execution_count": null,
      "metadata": {
        "id": "b9A6ZbZpZJ4j",
        "outputId": "5835c77f-89d2-4454-e45a-90064c444fa4"
      },
      "outputs": [
        {
          "data": {
            "text/html": [
              "<div>\n",
              "<style scoped>\n",
              "    .dataframe tbody tr th:only-of-type {\n",
              "        vertical-align: middle;\n",
              "    }\n",
              "\n",
              "    .dataframe tbody tr th {\n",
              "        vertical-align: top;\n",
              "    }\n",
              "\n",
              "    .dataframe thead th {\n",
              "        text-align: right;\n",
              "    }\n",
              "</style>\n",
              "<table border=\"1\" class=\"dataframe\">\n",
              "  <thead>\n",
              "    <tr style=\"text-align: right;\">\n",
              "      <th></th>\n",
              "      <th>id</th>\n",
              "      <th>age</th>\n",
              "      <th>bp</th>\n",
              "      <th>sg</th>\n",
              "      <th>al</th>\n",
              "      <th>su</th>\n",
              "      <th>rbc</th>\n",
              "      <th>pc</th>\n",
              "      <th>pcc</th>\n",
              "      <th>ba</th>\n",
              "      <th>...</th>\n",
              "      <th>pcv</th>\n",
              "      <th>wc</th>\n",
              "      <th>rc</th>\n",
              "      <th>htn</th>\n",
              "      <th>dm</th>\n",
              "      <th>cad</th>\n",
              "      <th>appet</th>\n",
              "      <th>pe</th>\n",
              "      <th>ane</th>\n",
              "      <th>classification</th>\n",
              "    </tr>\n",
              "  </thead>\n",
              "  <tbody>\n",
              "    <tr>\n",
              "      <th>0</th>\n",
              "      <td>0</td>\n",
              "      <td>48.0</td>\n",
              "      <td>80.0</td>\n",
              "      <td>1.020</td>\n",
              "      <td>1.0</td>\n",
              "      <td>0.0</td>\n",
              "      <td>NaN</td>\n",
              "      <td>normal</td>\n",
              "      <td>notpresent</td>\n",
              "      <td>notpresent</td>\n",
              "      <td>...</td>\n",
              "      <td>44</td>\n",
              "      <td>7800</td>\n",
              "      <td>5.2</td>\n",
              "      <td>yes</td>\n",
              "      <td>yes</td>\n",
              "      <td>no</td>\n",
              "      <td>good</td>\n",
              "      <td>no</td>\n",
              "      <td>no</td>\n",
              "      <td>ckd</td>\n",
              "    </tr>\n",
              "    <tr>\n",
              "      <th>1</th>\n",
              "      <td>1</td>\n",
              "      <td>7.0</td>\n",
              "      <td>50.0</td>\n",
              "      <td>1.020</td>\n",
              "      <td>4.0</td>\n",
              "      <td>0.0</td>\n",
              "      <td>NaN</td>\n",
              "      <td>normal</td>\n",
              "      <td>notpresent</td>\n",
              "      <td>notpresent</td>\n",
              "      <td>...</td>\n",
              "      <td>38</td>\n",
              "      <td>6000</td>\n",
              "      <td>NaN</td>\n",
              "      <td>no</td>\n",
              "      <td>no</td>\n",
              "      <td>no</td>\n",
              "      <td>good</td>\n",
              "      <td>no</td>\n",
              "      <td>no</td>\n",
              "      <td>ckd</td>\n",
              "    </tr>\n",
              "    <tr>\n",
              "      <th>2</th>\n",
              "      <td>2</td>\n",
              "      <td>62.0</td>\n",
              "      <td>80.0</td>\n",
              "      <td>1.010</td>\n",
              "      <td>2.0</td>\n",
              "      <td>3.0</td>\n",
              "      <td>normal</td>\n",
              "      <td>normal</td>\n",
              "      <td>notpresent</td>\n",
              "      <td>notpresent</td>\n",
              "      <td>...</td>\n",
              "      <td>31</td>\n",
              "      <td>7500</td>\n",
              "      <td>NaN</td>\n",
              "      <td>no</td>\n",
              "      <td>yes</td>\n",
              "      <td>no</td>\n",
              "      <td>poor</td>\n",
              "      <td>no</td>\n",
              "      <td>yes</td>\n",
              "      <td>ckd</td>\n",
              "    </tr>\n",
              "    <tr>\n",
              "      <th>3</th>\n",
              "      <td>3</td>\n",
              "      <td>48.0</td>\n",
              "      <td>70.0</td>\n",
              "      <td>1.005</td>\n",
              "      <td>4.0</td>\n",
              "      <td>0.0</td>\n",
              "      <td>normal</td>\n",
              "      <td>abnormal</td>\n",
              "      <td>present</td>\n",
              "      <td>notpresent</td>\n",
              "      <td>...</td>\n",
              "      <td>32</td>\n",
              "      <td>6700</td>\n",
              "      <td>3.9</td>\n",
              "      <td>yes</td>\n",
              "      <td>no</td>\n",
              "      <td>no</td>\n",
              "      <td>poor</td>\n",
              "      <td>yes</td>\n",
              "      <td>yes</td>\n",
              "      <td>ckd</td>\n",
              "    </tr>\n",
              "    <tr>\n",
              "      <th>4</th>\n",
              "      <td>4</td>\n",
              "      <td>51.0</td>\n",
              "      <td>80.0</td>\n",
              "      <td>1.010</td>\n",
              "      <td>2.0</td>\n",
              "      <td>0.0</td>\n",
              "      <td>normal</td>\n",
              "      <td>normal</td>\n",
              "      <td>notpresent</td>\n",
              "      <td>notpresent</td>\n",
              "      <td>...</td>\n",
              "      <td>35</td>\n",
              "      <td>7300</td>\n",
              "      <td>4.6</td>\n",
              "      <td>no</td>\n",
              "      <td>no</td>\n",
              "      <td>no</td>\n",
              "      <td>good</td>\n",
              "      <td>no</td>\n",
              "      <td>no</td>\n",
              "      <td>ckd</td>\n",
              "    </tr>\n",
              "  </tbody>\n",
              "</table>\n",
              "<p>5 rows × 26 columns</p>\n",
              "</div>"
            ],
            "text/plain": [
              "   id   age    bp     sg   al   su     rbc        pc         pcc          ba  \\\n",
              "0   0  48.0  80.0  1.020  1.0  0.0     NaN    normal  notpresent  notpresent   \n",
              "1   1   7.0  50.0  1.020  4.0  0.0     NaN    normal  notpresent  notpresent   \n",
              "2   2  62.0  80.0  1.010  2.0  3.0  normal    normal  notpresent  notpresent   \n",
              "3   3  48.0  70.0  1.005  4.0  0.0  normal  abnormal     present  notpresent   \n",
              "4   4  51.0  80.0  1.010  2.0  0.0  normal    normal  notpresent  notpresent   \n",
              "\n",
              "   ...  pcv    wc   rc  htn   dm  cad appet   pe  ane classification  \n",
              "0  ...   44  7800  5.2  yes  yes   no  good   no   no            ckd  \n",
              "1  ...   38  6000  NaN   no   no   no  good   no   no            ckd  \n",
              "2  ...   31  7500  NaN   no  yes   no  poor   no  yes            ckd  \n",
              "3  ...   32  6700  3.9  yes   no   no  poor  yes  yes            ckd  \n",
              "4  ...   35  7300  4.6   no   no   no  good   no   no            ckd  \n",
              "\n",
              "[5 rows x 26 columns]"
            ]
          },
          "execution_count": 2,
          "metadata": {},
          "output_type": "execute_result"
        }
      ],
      "source": [
        "df=pd.read_csv(\"D:\\IBM_Project\\chronickidneydisease.csv\")\n",
        "df.head()"
      ]
    },
    {
      "cell_type": "code",
      "execution_count": null,
      "metadata": {
        "id": "fkTUG4NPZJ4k",
        "outputId": "443f8751-83c8-4742-c73e-92251793c645"
      },
      "outputs": [
        {
          "data": {
            "text/html": [
              "<div>\n",
              "<style scoped>\n",
              "    .dataframe tbody tr th:only-of-type {\n",
              "        vertical-align: middle;\n",
              "    }\n",
              "\n",
              "    .dataframe tbody tr th {\n",
              "        vertical-align: top;\n",
              "    }\n",
              "\n",
              "    .dataframe thead th {\n",
              "        text-align: right;\n",
              "    }\n",
              "</style>\n",
              "<table border=\"1\" class=\"dataframe\">\n",
              "  <thead>\n",
              "    <tr style=\"text-align: right;\">\n",
              "      <th></th>\n",
              "      <th>cols</th>\n",
              "      <th>Full_names</th>\n",
              "    </tr>\n",
              "  </thead>\n",
              "  <tbody>\n",
              "    <tr>\n",
              "      <th>0</th>\n",
              "      <td>id</td>\n",
              "      <td>id</td>\n",
              "    </tr>\n",
              "    <tr>\n",
              "      <th>1</th>\n",
              "      <td>age</td>\n",
              "      <td>age</td>\n",
              "    </tr>\n",
              "    <tr>\n",
              "      <th>2</th>\n",
              "      <td>bp</td>\n",
              "      <td>blood pressure</td>\n",
              "    </tr>\n",
              "    <tr>\n",
              "      <th>3</th>\n",
              "      <td>sg</td>\n",
              "      <td>specific gravity</td>\n",
              "    </tr>\n",
              "    <tr>\n",
              "      <th>4</th>\n",
              "      <td>al</td>\n",
              "      <td>albumin</td>\n",
              "    </tr>\n",
              "  </tbody>\n",
              "</table>\n",
              "</div>"
            ],
            "text/plain": [
              "   cols        Full_names\n",
              "0   id                 id\n",
              "1  age                age\n",
              "2   bp     blood pressure\n",
              "3   sg   specific gravity\n",
              "4   al            albumin"
            ]
          },
          "execution_count": 3,
          "metadata": {},
          "output_type": "execute_result"
        }
      ],
      "source": [
        "columns = pd.read_csv(\"D:\\IBM_Project\\data_description.txt\",sep=\"-\")\n",
        "columns=columns.reset_index()\n",
        "columns.columns=[\"cols\",\"Full_names\"]\n",
        "columns.head()"
      ]
    },
    {
      "cell_type": "code",
      "execution_count": null,
      "metadata": {
        "id": "qM8NcjShZJ4l",
        "outputId": "4c2a9955-8cf6-4b14-8e89-b8e12d243a88"
      },
      "outputs": [
        {
          "data": {
            "text/html": [
              "<div>\n",
              "<style scoped>\n",
              "    .dataframe tbody tr th:only-of-type {\n",
              "        vertical-align: middle;\n",
              "    }\n",
              "\n",
              "    .dataframe tbody tr th {\n",
              "        vertical-align: top;\n",
              "    }\n",
              "\n",
              "    .dataframe thead th {\n",
              "        text-align: right;\n",
              "    }\n",
              "</style>\n",
              "<table border=\"1\" class=\"dataframe\">\n",
              "  <thead>\n",
              "    <tr style=\"text-align: right;\">\n",
              "      <th></th>\n",
              "      <th>id</th>\n",
              "      <th>age</th>\n",
              "      <th>blood pressure</th>\n",
              "      <th>specific gravity</th>\n",
              "      <th>albumin</th>\n",
              "      <th>sugar</th>\n",
              "      <th>red blood cells</th>\n",
              "      <th>pus cell</th>\n",
              "      <th>pus cell clumps</th>\n",
              "      <th>bacteria</th>\n",
              "      <th>...</th>\n",
              "      <th>packed cell volume</th>\n",
              "      <th>white blood cell count</th>\n",
              "      <th>red blood cell count</th>\n",
              "      <th>ypertension</th>\n",
              "      <th>diabetes mellitus</th>\n",
              "      <th>coronary artery disease</th>\n",
              "      <th>appetite</th>\n",
              "      <th>pedal edema</th>\n",
              "      <th>anemia</th>\n",
              "      <th>class</th>\n",
              "    </tr>\n",
              "  </thead>\n",
              "  <tbody>\n",
              "    <tr>\n",
              "      <th>0</th>\n",
              "      <td>0</td>\n",
              "      <td>48.0</td>\n",
              "      <td>80.0</td>\n",
              "      <td>1.020</td>\n",
              "      <td>1.0</td>\n",
              "      <td>0.0</td>\n",
              "      <td>NaN</td>\n",
              "      <td>normal</td>\n",
              "      <td>notpresent</td>\n",
              "      <td>notpresent</td>\n",
              "      <td>...</td>\n",
              "      <td>44</td>\n",
              "      <td>7800</td>\n",
              "      <td>5.2</td>\n",
              "      <td>yes</td>\n",
              "      <td>yes</td>\n",
              "      <td>no</td>\n",
              "      <td>good</td>\n",
              "      <td>no</td>\n",
              "      <td>no</td>\n",
              "      <td>ckd</td>\n",
              "    </tr>\n",
              "    <tr>\n",
              "      <th>1</th>\n",
              "      <td>1</td>\n",
              "      <td>7.0</td>\n",
              "      <td>50.0</td>\n",
              "      <td>1.020</td>\n",
              "      <td>4.0</td>\n",
              "      <td>0.0</td>\n",
              "      <td>NaN</td>\n",
              "      <td>normal</td>\n",
              "      <td>notpresent</td>\n",
              "      <td>notpresent</td>\n",
              "      <td>...</td>\n",
              "      <td>38</td>\n",
              "      <td>6000</td>\n",
              "      <td>NaN</td>\n",
              "      <td>no</td>\n",
              "      <td>no</td>\n",
              "      <td>no</td>\n",
              "      <td>good</td>\n",
              "      <td>no</td>\n",
              "      <td>no</td>\n",
              "      <td>ckd</td>\n",
              "    </tr>\n",
              "    <tr>\n",
              "      <th>2</th>\n",
              "      <td>2</td>\n",
              "      <td>62.0</td>\n",
              "      <td>80.0</td>\n",
              "      <td>1.010</td>\n",
              "      <td>2.0</td>\n",
              "      <td>3.0</td>\n",
              "      <td>normal</td>\n",
              "      <td>normal</td>\n",
              "      <td>notpresent</td>\n",
              "      <td>notpresent</td>\n",
              "      <td>...</td>\n",
              "      <td>31</td>\n",
              "      <td>7500</td>\n",
              "      <td>NaN</td>\n",
              "      <td>no</td>\n",
              "      <td>yes</td>\n",
              "      <td>no</td>\n",
              "      <td>poor</td>\n",
              "      <td>no</td>\n",
              "      <td>yes</td>\n",
              "      <td>ckd</td>\n",
              "    </tr>\n",
              "    <tr>\n",
              "      <th>3</th>\n",
              "      <td>3</td>\n",
              "      <td>48.0</td>\n",
              "      <td>70.0</td>\n",
              "      <td>1.005</td>\n",
              "      <td>4.0</td>\n",
              "      <td>0.0</td>\n",
              "      <td>normal</td>\n",
              "      <td>abnormal</td>\n",
              "      <td>present</td>\n",
              "      <td>notpresent</td>\n",
              "      <td>...</td>\n",
              "      <td>32</td>\n",
              "      <td>6700</td>\n",
              "      <td>3.9</td>\n",
              "      <td>yes</td>\n",
              "      <td>no</td>\n",
              "      <td>no</td>\n",
              "      <td>poor</td>\n",
              "      <td>yes</td>\n",
              "      <td>yes</td>\n",
              "      <td>ckd</td>\n",
              "    </tr>\n",
              "    <tr>\n",
              "      <th>4</th>\n",
              "      <td>4</td>\n",
              "      <td>51.0</td>\n",
              "      <td>80.0</td>\n",
              "      <td>1.010</td>\n",
              "      <td>2.0</td>\n",
              "      <td>0.0</td>\n",
              "      <td>normal</td>\n",
              "      <td>normal</td>\n",
              "      <td>notpresent</td>\n",
              "      <td>notpresent</td>\n",
              "      <td>...</td>\n",
              "      <td>35</td>\n",
              "      <td>7300</td>\n",
              "      <td>4.6</td>\n",
              "      <td>no</td>\n",
              "      <td>no</td>\n",
              "      <td>no</td>\n",
              "      <td>good</td>\n",
              "      <td>no</td>\n",
              "      <td>no</td>\n",
              "      <td>ckd</td>\n",
              "    </tr>\n",
              "  </tbody>\n",
              "</table>\n",
              "<p>5 rows × 26 columns</p>\n",
              "</div>"
            ],
            "text/plain": [
              "   id   age  blood pressure  specific gravity  albumin  sugar red blood cells  \\\n",
              "0   0  48.0            80.0             1.020      1.0    0.0             NaN   \n",
              "1   1   7.0            50.0             1.020      4.0    0.0             NaN   \n",
              "2   2  62.0            80.0             1.010      2.0    3.0          normal   \n",
              "3   3  48.0            70.0             1.005      4.0    0.0          normal   \n",
              "4   4  51.0            80.0             1.010      2.0    0.0          normal   \n",
              "\n",
              "   pus cell pus cell clumps    bacteria  ...  packed cell volume  \\\n",
              "0    normal      notpresent  notpresent  ...                  44   \n",
              "1    normal      notpresent  notpresent  ...                  38   \n",
              "2    normal      notpresent  notpresent  ...                  31   \n",
              "3  abnormal         present  notpresent  ...                  32   \n",
              "4    normal      notpresent  notpresent  ...                  35   \n",
              "\n",
              "   white blood cell count  red blood cell count  ypertension  \\\n",
              "0                    7800                   5.2          yes   \n",
              "1                    6000                   NaN           no   \n",
              "2                    7500                   NaN           no   \n",
              "3                    6700                   3.9          yes   \n",
              "4                    7300                   4.6           no   \n",
              "\n",
              "   diabetes mellitus  coronary artery disease appetite pedal edema anemia  \\\n",
              "0                yes                       no     good          no     no   \n",
              "1                 no                       no     good          no     no   \n",
              "2                yes                       no     poor          no    yes   \n",
              "3                 no                       no     poor         yes    yes   \n",
              "4                 no                       no     good          no     no   \n",
              "\n",
              "  class  \n",
              "0   ckd  \n",
              "1   ckd  \n",
              "2   ckd  \n",
              "3   ckd  \n",
              "4   ckd  \n",
              "\n",
              "[5 rows x 26 columns]"
            ]
          },
          "execution_count": 4,
          "metadata": {},
          "output_type": "execute_result"
        }
      ],
      "source": [
        "df.columns = columns[\"Full_names\"].values\n",
        "df.head()"
      ]
    },
    {
      "cell_type": "code",
      "execution_count": null,
      "metadata": {
        "id": "PDWV7IzBZJ4l",
        "outputId": "935661d2-5774-4563-b6ef-03db84330d32"
      },
      "outputs": [
        {
          "data": {
            "text/plain": [
              "id                           int64\n",
              "age                        float64\n",
              "blood pressure             float64\n",
              "specific gravity           float64\n",
              "albumin                    float64\n",
              "sugar                      float64\n",
              "red blood cells             object\n",
              " pus cell                   object\n",
              "pus cell clumps             object\n",
              "bacteria                    object\n",
              "blood glucose random       float64\n",
              "blood urea                 float64\n",
              "serum creatinine           float64\n",
              "sodium                     float64\n",
              "potassium                  float64\n",
              "haemoglobin                float64\n",
              "packed cell volume          object\n",
              "white blood cell count      object\n",
              "red blood cell count        object\n",
              "ypertension                 object\n",
              "diabetes mellitus           object\n",
              "coronary artery disease     object\n",
              "appetite                    object\n",
              "pedal edema                 object\n",
              "anemia                      object\n",
              "class                       object\n",
              "dtype: object"
            ]
          },
          "execution_count": 5,
          "metadata": {},
          "output_type": "execute_result"
        }
      ],
      "source": [
        "df.dtypes"
      ]
    },
    {
      "cell_type": "code",
      "execution_count": null,
      "metadata": {
        "id": "7OU9pylpZJ4l"
      },
      "outputs": [],
      "source": [
        "def convert_dtypes(df,feature):\n",
        "    df[feature]=pd.to_numeric(df[feature],errors='coerce')"
      ]
    },
    {
      "cell_type": "code",
      "execution_count": null,
      "metadata": {
        "colab": {
          "base_uri": "https://localhost:8080/",
          "height": 200
        },
        "id": "-ivdWdLSZJ4m",
        "outputId": "c0aa881d-1cd1-4333-e514-0cc47a5bcb86"
      },
      "outputs": [
        {
          "output_type": "error",
          "ename": "NameError",
          "evalue": "ignored",
          "traceback": [
            "\u001b[0;31m---------------------------------------------------------------------------\u001b[0m",
            "\u001b[0;31mNameError\u001b[0m                                 Traceback (most recent call last)",
            "\u001b[0;32m<ipython-input-1-1885618b05d4>\u001b[0m in \u001b[0;36m<module>\u001b[0;34m\u001b[0m\n\u001b[1;32m      1\u001b[0m \u001b[0mfeatures\u001b[0m \u001b[0;34m=\u001b[0m\u001b[0;34m[\u001b[0m\u001b[0;34m'packed cell volume'\u001b[0m\u001b[0;34m,\u001b[0m\u001b[0;34m'white blood cell count'\u001b[0m\u001b[0;34m,\u001b[0m\u001b[0;34m'red blood cell count'\u001b[0m\u001b[0;34m]\u001b[0m\u001b[0;34m\u001b[0m\u001b[0;34m\u001b[0m\u001b[0m\n\u001b[1;32m      2\u001b[0m \u001b[0;32mfor\u001b[0m \u001b[0mfeature\u001b[0m \u001b[0;32min\u001b[0m \u001b[0mfeatures\u001b[0m\u001b[0;34m:\u001b[0m\u001b[0;34m\u001b[0m\u001b[0;34m\u001b[0m\u001b[0m\n\u001b[0;32m----> 3\u001b[0;31m     \u001b[0mconvert_dtypes\u001b[0m\u001b[0;34m(\u001b[0m\u001b[0mdf\u001b[0m\u001b[0;34m,\u001b[0m\u001b[0mfeature\u001b[0m\u001b[0;34m)\u001b[0m\u001b[0;34m\u001b[0m\u001b[0;34m\u001b[0m\u001b[0m\n\u001b[0m",
            "\u001b[0;31mNameError\u001b[0m: name 'convert_dtypes' is not defined"
          ]
        }
      ],
      "source": [
        "features =['packed cell volume','white blood cell count','red blood cell count']\n",
        "for feature in features:\n",
        "    convert_dtypes(df,feature)"
      ]
    },
    {
      "cell_type": "code",
      "execution_count": null,
      "metadata": {
        "id": "n9oy5IAhZJ4m",
        "outputId": "96285ac3-c10a-47bb-f214-dea3de654a56"
      },
      "outputs": [
        {
          "data": {
            "text/plain": [
              "id                           int64\n",
              "age                        float64\n",
              "blood pressure             float64\n",
              "specific gravity           float64\n",
              "albumin                    float64\n",
              "sugar                      float64\n",
              "red blood cells             object\n",
              " pus cell                   object\n",
              "pus cell clumps             object\n",
              "bacteria                    object\n",
              "blood glucose random       float64\n",
              "blood urea                 float64\n",
              "serum creatinine           float64\n",
              "sodium                     float64\n",
              "potassium                  float64\n",
              "haemoglobin                float64\n",
              "packed cell volume         float64\n",
              "white blood cell count     float64\n",
              "red blood cell count       float64\n",
              "ypertension                 object\n",
              "diabetes mellitus           object\n",
              "coronary artery disease     object\n",
              "appetite                    object\n",
              "pedal edema                 object\n",
              "anemia                      object\n",
              "class                       object\n",
              "dtype: object"
            ]
          },
          "execution_count": 8,
          "metadata": {},
          "output_type": "execute_result"
        }
      ],
      "source": [
        "df.dtypes"
      ]
    },
    {
      "cell_type": "markdown",
      "metadata": {
        "id": "0WO49n4wZJ4m"
      },
      "source": [
        "# DATA CLEANING "
      ]
    },
    {
      "cell_type": "code",
      "execution_count": null,
      "metadata": {
        "id": "Vy4NIJhQZJ4n",
        "outputId": "54cb2b2a-5452-4bba-f641-ca2be3f19310"
      },
      "outputs": [
        {
          "data": {
            "text/html": [
              "<div>\n",
              "<style scoped>\n",
              "    .dataframe tbody tr th:only-of-type {\n",
              "        vertical-align: middle;\n",
              "    }\n",
              "\n",
              "    .dataframe tbody tr th {\n",
              "        vertical-align: top;\n",
              "    }\n",
              "\n",
              "    .dataframe thead th {\n",
              "        text-align: right;\n",
              "    }\n",
              "</style>\n",
              "<table border=\"1\" class=\"dataframe\">\n",
              "  <thead>\n",
              "    <tr style=\"text-align: right;\">\n",
              "      <th></th>\n",
              "      <th>age</th>\n",
              "      <th>blood pressure</th>\n",
              "      <th>specific gravity</th>\n",
              "      <th>albumin</th>\n",
              "      <th>sugar</th>\n",
              "      <th>red blood cells</th>\n",
              "      <th>pus cell</th>\n",
              "      <th>pus cell clumps</th>\n",
              "      <th>bacteria</th>\n",
              "      <th>blood glucose random</th>\n",
              "      <th>...</th>\n",
              "      <th>packed cell volume</th>\n",
              "      <th>white blood cell count</th>\n",
              "      <th>red blood cell count</th>\n",
              "      <th>ypertension</th>\n",
              "      <th>diabetes mellitus</th>\n",
              "      <th>coronary artery disease</th>\n",
              "      <th>appetite</th>\n",
              "      <th>pedal edema</th>\n",
              "      <th>anemia</th>\n",
              "      <th>class</th>\n",
              "    </tr>\n",
              "  </thead>\n",
              "  <tbody>\n",
              "    <tr>\n",
              "      <th>0</th>\n",
              "      <td>48.0</td>\n",
              "      <td>80.0</td>\n",
              "      <td>1.020</td>\n",
              "      <td>1.0</td>\n",
              "      <td>0.0</td>\n",
              "      <td>NaN</td>\n",
              "      <td>normal</td>\n",
              "      <td>notpresent</td>\n",
              "      <td>notpresent</td>\n",
              "      <td>121.0</td>\n",
              "      <td>...</td>\n",
              "      <td>44.0</td>\n",
              "      <td>7800.0</td>\n",
              "      <td>5.2</td>\n",
              "      <td>yes</td>\n",
              "      <td>yes</td>\n",
              "      <td>no</td>\n",
              "      <td>good</td>\n",
              "      <td>no</td>\n",
              "      <td>no</td>\n",
              "      <td>ckd</td>\n",
              "    </tr>\n",
              "    <tr>\n",
              "      <th>1</th>\n",
              "      <td>7.0</td>\n",
              "      <td>50.0</td>\n",
              "      <td>1.020</td>\n",
              "      <td>4.0</td>\n",
              "      <td>0.0</td>\n",
              "      <td>NaN</td>\n",
              "      <td>normal</td>\n",
              "      <td>notpresent</td>\n",
              "      <td>notpresent</td>\n",
              "      <td>NaN</td>\n",
              "      <td>...</td>\n",
              "      <td>38.0</td>\n",
              "      <td>6000.0</td>\n",
              "      <td>NaN</td>\n",
              "      <td>no</td>\n",
              "      <td>no</td>\n",
              "      <td>no</td>\n",
              "      <td>good</td>\n",
              "      <td>no</td>\n",
              "      <td>no</td>\n",
              "      <td>ckd</td>\n",
              "    </tr>\n",
              "    <tr>\n",
              "      <th>2</th>\n",
              "      <td>62.0</td>\n",
              "      <td>80.0</td>\n",
              "      <td>1.010</td>\n",
              "      <td>2.0</td>\n",
              "      <td>3.0</td>\n",
              "      <td>normal</td>\n",
              "      <td>normal</td>\n",
              "      <td>notpresent</td>\n",
              "      <td>notpresent</td>\n",
              "      <td>423.0</td>\n",
              "      <td>...</td>\n",
              "      <td>31.0</td>\n",
              "      <td>7500.0</td>\n",
              "      <td>NaN</td>\n",
              "      <td>no</td>\n",
              "      <td>yes</td>\n",
              "      <td>no</td>\n",
              "      <td>poor</td>\n",
              "      <td>no</td>\n",
              "      <td>yes</td>\n",
              "      <td>ckd</td>\n",
              "    </tr>\n",
              "    <tr>\n",
              "      <th>3</th>\n",
              "      <td>48.0</td>\n",
              "      <td>70.0</td>\n",
              "      <td>1.005</td>\n",
              "      <td>4.0</td>\n",
              "      <td>0.0</td>\n",
              "      <td>normal</td>\n",
              "      <td>abnormal</td>\n",
              "      <td>present</td>\n",
              "      <td>notpresent</td>\n",
              "      <td>117.0</td>\n",
              "      <td>...</td>\n",
              "      <td>32.0</td>\n",
              "      <td>6700.0</td>\n",
              "      <td>3.9</td>\n",
              "      <td>yes</td>\n",
              "      <td>no</td>\n",
              "      <td>no</td>\n",
              "      <td>poor</td>\n",
              "      <td>yes</td>\n",
              "      <td>yes</td>\n",
              "      <td>ckd</td>\n",
              "    </tr>\n",
              "    <tr>\n",
              "      <th>4</th>\n",
              "      <td>51.0</td>\n",
              "      <td>80.0</td>\n",
              "      <td>1.010</td>\n",
              "      <td>2.0</td>\n",
              "      <td>0.0</td>\n",
              "      <td>normal</td>\n",
              "      <td>normal</td>\n",
              "      <td>notpresent</td>\n",
              "      <td>notpresent</td>\n",
              "      <td>106.0</td>\n",
              "      <td>...</td>\n",
              "      <td>35.0</td>\n",
              "      <td>7300.0</td>\n",
              "      <td>4.6</td>\n",
              "      <td>no</td>\n",
              "      <td>no</td>\n",
              "      <td>no</td>\n",
              "      <td>good</td>\n",
              "      <td>no</td>\n",
              "      <td>no</td>\n",
              "      <td>ckd</td>\n",
              "    </tr>\n",
              "  </tbody>\n",
              "</table>\n",
              "<p>5 rows × 25 columns</p>\n",
              "</div>"
            ],
            "text/plain": [
              "    age  blood pressure  specific gravity  albumin  sugar red blood cells  \\\n",
              "0  48.0            80.0             1.020      1.0    0.0             NaN   \n",
              "1   7.0            50.0             1.020      4.0    0.0             NaN   \n",
              "2  62.0            80.0             1.010      2.0    3.0          normal   \n",
              "3  48.0            70.0             1.005      4.0    0.0          normal   \n",
              "4  51.0            80.0             1.010      2.0    0.0          normal   \n",
              "\n",
              "   pus cell pus cell clumps    bacteria  blood glucose random  ...  \\\n",
              "0    normal      notpresent  notpresent                 121.0  ...   \n",
              "1    normal      notpresent  notpresent                   NaN  ...   \n",
              "2    normal      notpresent  notpresent                 423.0  ...   \n",
              "3  abnormal         present  notpresent                 117.0  ...   \n",
              "4    normal      notpresent  notpresent                 106.0  ...   \n",
              "\n",
              "   packed cell volume  white blood cell count  red blood cell count  \\\n",
              "0                44.0                  7800.0                   5.2   \n",
              "1                38.0                  6000.0                   NaN   \n",
              "2                31.0                  7500.0                   NaN   \n",
              "3                32.0                  6700.0                   3.9   \n",
              "4                35.0                  7300.0                   4.6   \n",
              "\n",
              "   ypertension  diabetes mellitus  coronary artery disease  appetite  \\\n",
              "0          yes                yes                       no      good   \n",
              "1           no                 no                       no      good   \n",
              "2           no                yes                       no      poor   \n",
              "3          yes                 no                       no      poor   \n",
              "4           no                 no                       no      good   \n",
              "\n",
              "   pedal edema anemia class  \n",
              "0           no     no   ckd  \n",
              "1           no     no   ckd  \n",
              "2           no    yes   ckd  \n",
              "3          yes    yes   ckd  \n",
              "4           no     no   ckd  \n",
              "\n",
              "[5 rows x 25 columns]"
            ]
          },
          "execution_count": 9,
          "metadata": {},
          "output_type": "execute_result"
        }
      ],
      "source": [
        "df.drop('id',axis=1,inplace=True)\n",
        "df.head()"
      ]
    },
    {
      "cell_type": "code",
      "execution_count": null,
      "metadata": {
        "id": "LbN_-4_zZJ4o"
      },
      "outputs": [],
      "source": [
        "def extract_cat_num(df):\n",
        "    cat_col=[]\n",
        "    num_col=[]\n",
        "    for col in df.columns:\n",
        "        if df[col].dtype=='object':\n",
        "            cat_col.append(col)\n",
        "        elif df[col].dtype!='object':\n",
        "            num_col.append(col)\n",
        "    return cat_col, num_col"
      ]
    },
    {
      "cell_type": "code",
      "execution_count": null,
      "metadata": {
        "id": "W9dTuDHTZJ4o"
      },
      "outputs": [],
      "source": [
        "cat_col,num_col=extract_cat_num(df)"
      ]
    },
    {
      "cell_type": "code",
      "execution_count": null,
      "metadata": {
        "id": "PylbOKx_ZJ4o",
        "outputId": "d32bd227-4ab5-4360-d051-47aefab121b5"
      },
      "outputs": [
        {
          "name": "stdout",
          "output_type": "stream",
          "text": [
            " red blood cells has 2 numbers of values i.e. [nan 'normal' 'abnormal']\n",
            "  pus cell has 2 numbers of values i.e. ['normal' 'abnormal' nan]\n",
            " pus cell clumps has 2 numbers of values i.e. ['notpresent' 'present' nan]\n",
            " bacteria has 2 numbers of values i.e. ['notpresent' 'present' nan]\n",
            " ypertension has 2 numbers of values i.e. ['yes' 'no' nan]\n",
            " diabetes mellitus has 5 numbers of values i.e. ['yes' 'no' ' yes' '\\tno' '\\tyes' nan]\n",
            " coronary artery disease has 3 numbers of values i.e. ['no' 'yes' '\\tno' nan]\n",
            " appetite has 2 numbers of values i.e. ['good' 'poor' nan]\n",
            " pedal edema has 2 numbers of values i.e. ['no' 'yes' nan]\n",
            " anemia has 2 numbers of values i.e. ['no' 'yes' nan]\n",
            " class has 3 numbers of values i.e. ['ckd' 'ckd\\t' 'notckd']\n"
          ]
        }
      ],
      "source": [
        "for col in cat_col:\n",
        "    print(' {} has {} numbers of values i.e. {}'.format(col, df[col].nunique(),df[col].unique()))"
      ]
    },
    {
      "cell_type": "code",
      "execution_count": null,
      "metadata": {
        "id": "WCT9S3hpZJ4p",
        "outputId": "2043161a-a595-42cb-a732-d799e624ef21"
      },
      "outputs": [
        {
          "name": "stdout",
          "output_type": "stream",
          "text": [
            " red blood cells has 2 numbers of values i.e. [nan 'normal' 'abnormal']\n",
            "  pus cell has 2 numbers of values i.e. ['normal' 'abnormal' nan]\n",
            " pus cell clumps has 2 numbers of values i.e. ['notpresent' 'present' nan]\n",
            " bacteria has 2 numbers of values i.e. ['notpresent' 'present' nan]\n",
            " ypertension has 2 numbers of values i.e. ['yes' 'no' nan]\n",
            " diabetes mellitus has 3 numbers of values i.e. ['yes' 'no' ' yes' nan]\n",
            " coronary artery disease has 2 numbers of values i.e. ['no' 'yes' nan]\n",
            " appetite has 2 numbers of values i.e. ['good' 'poor' nan]\n",
            " pedal edema has 2 numbers of values i.e. ['no' 'yes' nan]\n",
            " anemia has 2 numbers of values i.e. ['no' 'yes' nan]\n",
            " class has 2 numbers of values i.e. ['ckd' 'notckd']\n"
          ]
        }
      ],
      "source": [
        "df[\"diabetes mellitus\"]= df['diabetes mellitus'].replace(to_replace ={'\\tno':'no','\\tyes':'yes'})\n",
        "df[\"coronary artery disease\"]= df['coronary artery disease'].replace(to_replace ={'\\tno':'no','\\tyes':'yes'})\n",
        "df['class'] = df['class'].replace(to_replace={'ckd\\t':'ckd'})\n",
        "for col in cat_col:\n",
        "    print(' {} has {} numbers of values i.e. {}'.format(col, df[col].nunique(),df[col].unique()))"
      ]
    },
    {
      "cell_type": "code",
      "execution_count": null,
      "metadata": {
        "id": "iIHmRlaZZJ4p",
        "outputId": "6f84c8b7-81ef-4e08-87e8-6bb04131d965"
      },
      "outputs": [
        {
          "data": {
            "text/plain": [
              "red blood cells            152\n",
              "red blood cell count       131\n",
              "white blood cell count     106\n",
              "potassium                   88\n",
              "sodium                      87\n",
              "packed cell volume          71\n",
              " pus cell                   65\n",
              "haemoglobin                 52\n",
              "sugar                       49\n",
              "specific gravity            47\n",
              "albumin                     46\n",
              "blood glucose random        44\n",
              "blood urea                  19\n",
              "serum creatinine            17\n",
              "blood pressure              12\n",
              "age                          9\n",
              "bacteria                     4\n",
              "pus cell clumps              4\n",
              "ypertension                  2\n",
              "diabetes mellitus            2\n",
              "coronary artery disease      2\n",
              "anemia                       1\n",
              "appetite                     1\n",
              "pedal edema                  1\n",
              "class                        0\n",
              "dtype: int64"
            ]
          },
          "execution_count": 14,
          "metadata": {},
          "output_type": "execute_result"
        }
      ],
      "source": [
        "df.isna().sum().sort_values(ascending =False)\n"
      ]
    },
    {
      "cell_type": "code",
      "execution_count": null,
      "metadata": {
        "id": "OXvMEqO5ZJ4p"
      },
      "outputs": [],
      "source": [
        "def random_value_imputation(df,feature):\n",
        "    random_sample=df[feature].dropna().sample(df[feature].isnull().sum())\n",
        "    random_sample.index=df[df[feature].isnull()].index\n",
        "    df.loc[df[feature].isnull(),feature]=random_sample\n",
        "    print(\"The missing values\",feature,\" are \", df[feature].isnull().sum())"
      ]
    },
    {
      "cell_type": "code",
      "execution_count": null,
      "metadata": {
        "id": "CUPhr1gqZJ4q",
        "outputId": "79b757cd-c602-4ee9-ced2-2f07f2385e2e"
      },
      "outputs": [
        {
          "name": "stdout",
          "output_type": "stream",
          "text": [
            "The missing values age  are  0\n",
            "The missing values blood pressure  are  0\n",
            "The missing values specific gravity  are  0\n",
            "The missing values albumin  are  0\n",
            "The missing values sugar  are  0\n",
            "The missing values blood glucose random  are  0\n",
            "The missing values blood urea  are  0\n",
            "The missing values serum creatinine  are  0\n",
            "The missing values sodium  are  0\n",
            "The missing values potassium  are  0\n",
            "The missing values haemoglobin  are  0\n",
            "The missing values packed cell volume  are  0\n",
            "The missing values white blood cell count  are  0\n",
            "The missing values red blood cell count  are  0\n"
          ]
        }
      ],
      "source": [
        "df[num_col].isnull().sum()\n",
        "for f in num_col:\n",
        "    random_value_imputation(df,f)"
      ]
    },
    {
      "cell_type": "code",
      "execution_count": null,
      "metadata": {
        "id": "kP-U8QlLZJ4q",
        "outputId": "b8a1796f-43c6-4c17-88ca-fa1babd67698"
      },
      "outputs": [
        {
          "name": "stdout",
          "output_type": "stream",
          "text": [
            "The missing values red blood cells  are  0\n",
            "The missing values  pus cell  are  0\n",
            "The missing values pus cell clumps  are  0\n",
            "The missing values bacteria  are  0\n",
            "The missing values ypertension  are  0\n",
            "The missing values diabetes mellitus  are  0\n",
            "The missing values coronary artery disease  are  0\n",
            "The missing values appetite  are  0\n",
            "The missing values pedal edema  are  0\n",
            "The missing values anemia  are  0\n",
            "The missing values class  are  0\n"
          ]
        }
      ],
      "source": [
        "df[cat_col].isnull().sum()\n",
        "for f in cat_col:\n",
        "    random_value_imputation(df,f)"
      ]
    },
    {
      "cell_type": "code",
      "execution_count": null,
      "metadata": {
        "id": "aXpXOvBFZJ4q",
        "outputId": "fee388ed-a755-4ac6-f2f8-6c0883339908"
      },
      "outputs": [
        {
          "name": "stdout",
          "output_type": "stream",
          "text": [
            "      age  blood pressure  specific gravity  albumin  sugar red blood cells  \\\n",
            "0    48.0            80.0             1.020      1.0    0.0          normal   \n",
            "1     7.0            50.0             1.020      4.0    0.0          normal   \n",
            "2    62.0            80.0             1.010      2.0    3.0          normal   \n",
            "3    48.0            70.0             1.005      4.0    0.0          normal   \n",
            "4    51.0            80.0             1.010      2.0    0.0          normal   \n",
            "..    ...             ...               ...      ...    ...             ...   \n",
            "395  55.0            80.0             1.020      0.0    0.0          normal   \n",
            "396  42.0            70.0             1.025      0.0    0.0          normal   \n",
            "397  12.0            80.0             1.020      0.0    0.0          normal   \n",
            "398  17.0            60.0             1.025      0.0    0.0          normal   \n",
            "399  58.0            80.0             1.025      0.0    0.0          normal   \n",
            "\n",
            "     pus cell pus cell clumps    bacteria  blood glucose random  ...  \\\n",
            "0      normal      notpresent  notpresent                 121.0  ...   \n",
            "1      normal      notpresent  notpresent                 123.0  ...   \n",
            "2      normal      notpresent  notpresent                 423.0  ...   \n",
            "3    abnormal         present  notpresent                 117.0  ...   \n",
            "4      normal      notpresent  notpresent                 106.0  ...   \n",
            "..        ...             ...         ...                   ...  ...   \n",
            "395    normal      notpresent  notpresent                 140.0  ...   \n",
            "396    normal      notpresent  notpresent                  75.0  ...   \n",
            "397    normal      notpresent  notpresent                 100.0  ...   \n",
            "398    normal      notpresent  notpresent                 114.0  ...   \n",
            "399    normal      notpresent  notpresent                 131.0  ...   \n",
            "\n",
            "     packed cell volume  white blood cell count  red blood cell count  \\\n",
            "0                  44.0                  7800.0                   5.2   \n",
            "1                  38.0                  6000.0                   4.5   \n",
            "2                  31.0                  7500.0                   5.2   \n",
            "3                  32.0                  6700.0                   3.9   \n",
            "4                  35.0                  7300.0                   4.6   \n",
            "..                  ...                     ...                   ...   \n",
            "395                47.0                  6700.0                   4.9   \n",
            "396                54.0                  7800.0                   6.2   \n",
            "397                49.0                  6600.0                   5.4   \n",
            "398                51.0                  7200.0                   5.9   \n",
            "399                53.0                  6800.0                   6.1   \n",
            "\n",
            "     ypertension  diabetes mellitus  coronary artery disease  appetite  \\\n",
            "0            yes                yes                       no      good   \n",
            "1             no                 no                       no      good   \n",
            "2             no                yes                       no      poor   \n",
            "3            yes                 no                       no      poor   \n",
            "4             no                 no                       no      good   \n",
            "..           ...                ...                      ...       ...   \n",
            "395           no                 no                       no      good   \n",
            "396           no                 no                       no      good   \n",
            "397           no                 no                       no      good   \n",
            "398           no                 no                       no      good   \n",
            "399           no                 no                       no      good   \n",
            "\n",
            "     pedal edema anemia   class  \n",
            "0             no     no     ckd  \n",
            "1             no     no     ckd  \n",
            "2             no    yes     ckd  \n",
            "3            yes    yes     ckd  \n",
            "4             no     no     ckd  \n",
            "..           ...    ...     ...  \n",
            "395           no     no  notckd  \n",
            "396           no     no  notckd  \n",
            "397           no     no  notckd  \n",
            "398           no     no  notckd  \n",
            "399           no     no  notckd  \n",
            "\n",
            "[400 rows x 25 columns]\n"
          ]
        }
      ],
      "source": [
        "print(df)"
      ]
    },
    {
      "cell_type": "code",
      "execution_count": null,
      "metadata": {
        "colab": {
          "base_uri": "https://localhost:8080/",
          "height": 235
        },
        "id": "FCjdbfV3ZJ4r",
        "outputId": "571feb5c-a25c-4b5b-e576-bd8eafe9ec0e"
      },
      "outputs": [
        {
          "output_type": "error",
          "ename": "NameError",
          "evalue": "ignored",
          "traceback": [
            "\u001b[0;31m---------------------------------------------------------------------------\u001b[0m",
            "\u001b[0;31mNameError\u001b[0m                                 Traceback (most recent call last)",
            "\u001b[0;32m<ipython-input-2-990fc230c17f>\u001b[0m in \u001b[0;36m<module>\u001b[0;34m\u001b[0m\n\u001b[0;32m----> 1\u001b[0;31m \u001b[0mplt\u001b[0m\u001b[0;34m.\u001b[0m\u001b[0mfigure\u001b[0m\u001b[0;34m(\u001b[0m\u001b[0mfigsize\u001b[0m\u001b[0;34m=\u001b[0m\u001b[0;34m(\u001b[0m\u001b[0;36m30\u001b[0m\u001b[0;34m,\u001b[0m\u001b[0;36m20\u001b[0m\u001b[0;34m)\u001b[0m\u001b[0;34m)\u001b[0m\u001b[0;34m\u001b[0m\u001b[0;34m\u001b[0m\u001b[0m\n\u001b[0m\u001b[1;32m      2\u001b[0m \u001b[0;34m\u001b[0m\u001b[0m\n\u001b[1;32m      3\u001b[0m \u001b[0;32mfor\u001b[0m \u001b[0mi\u001b[0m\u001b[0;34m,\u001b[0m\u001b[0mfeature\u001b[0m \u001b[0;32min\u001b[0m \u001b[0menumerate\u001b[0m\u001b[0;34m(\u001b[0m\u001b[0mnum_col\u001b[0m\u001b[0;34m)\u001b[0m\u001b[0;34m:\u001b[0m\u001b[0;34m\u001b[0m\u001b[0;34m\u001b[0m\u001b[0m\n\u001b[1;32m      4\u001b[0m     \u001b[0mplt\u001b[0m\u001b[0;34m.\u001b[0m\u001b[0msubplot\u001b[0m\u001b[0;34m(\u001b[0m\u001b[0;36m5\u001b[0m\u001b[0;34m,\u001b[0m\u001b[0;36m3\u001b[0m\u001b[0;34m,\u001b[0m\u001b[0mi\u001b[0m\u001b[0;34m+\u001b[0m\u001b[0;36m1\u001b[0m\u001b[0;34m)\u001b[0m\u001b[0;34m\u001b[0m\u001b[0;34m\u001b[0m\u001b[0m\n\u001b[1;32m      5\u001b[0m     \u001b[0mdf\u001b[0m\u001b[0;34m[\u001b[0m\u001b[0mfeature\u001b[0m\u001b[0;34m]\u001b[0m\u001b[0;34m.\u001b[0m\u001b[0mhist\u001b[0m\u001b[0;34m(\u001b[0m\u001b[0;34m)\u001b[0m\u001b[0;34m\u001b[0m\u001b[0;34m\u001b[0m\u001b[0m\n",
            "\u001b[0;31mNameError\u001b[0m: name 'plt' is not defined"
          ]
        }
      ],
      "source": [
        "plt.figure(figsize=(30,20))\n",
        "\n",
        "for i,feature in enumerate(num_col):\n",
        "    plt.subplot(5,3,i+1)\n",
        "    df[feature].hist()\n",
        "    plt.title(feature)"
      ]
    },
    {
      "cell_type": "code",
      "execution_count": null,
      "metadata": {
        "id": "-oVZ_MmLZJ4r",
        "outputId": "fa466c13-9106-4769-fea9-5ff1e9a6fd84"
      },
      "outputs": [
        {
          "name": "stderr",
          "output_type": "stream",
          "text": [
            "C:\\Users\\HP\\anaconda3\\lib\\site-packages\\seaborn\\_decorators.py:36: FutureWarning: Pass the following variable as a keyword arg: x. From version 0.12, the only valid positional argument will be `data`, and passing other arguments without an explicit keyword will result in an error or misinterpretation.\n",
            "  warnings.warn(\n",
            "C:\\Users\\HP\\anaconda3\\lib\\site-packages\\seaborn\\_decorators.py:36: FutureWarning: Pass the following variable as a keyword arg: x. From version 0.12, the only valid positional argument will be `data`, and passing other arguments without an explicit keyword will result in an error or misinterpretation.\n",
            "  warnings.warn(\n",
            "C:\\Users\\HP\\anaconda3\\lib\\site-packages\\seaborn\\_decorators.py:36: FutureWarning: Pass the following variable as a keyword arg: x. From version 0.12, the only valid positional argument will be `data`, and passing other arguments without an explicit keyword will result in an error or misinterpretation.\n",
            "  warnings.warn(\n",
            "C:\\Users\\HP\\anaconda3\\lib\\site-packages\\seaborn\\_decorators.py:36: FutureWarning: Pass the following variable as a keyword arg: x. From version 0.12, the only valid positional argument will be `data`, and passing other arguments without an explicit keyword will result in an error or misinterpretation.\n",
            "  warnings.warn(\n",
            "C:\\Users\\HP\\anaconda3\\lib\\site-packages\\seaborn\\_decorators.py:36: FutureWarning: Pass the following variable as a keyword arg: x. From version 0.12, the only valid positional argument will be `data`, and passing other arguments without an explicit keyword will result in an error or misinterpretation.\n",
            "  warnings.warn(\n",
            "C:\\Users\\HP\\anaconda3\\lib\\site-packages\\seaborn\\_decorators.py:36: FutureWarning: Pass the following variable as a keyword arg: x. From version 0.12, the only valid positional argument will be `data`, and passing other arguments without an explicit keyword will result in an error or misinterpretation.\n",
            "  warnings.warn(\n",
            "C:\\Users\\HP\\anaconda3\\lib\\site-packages\\seaborn\\_decorators.py:36: FutureWarning: Pass the following variable as a keyword arg: x. From version 0.12, the only valid positional argument will be `data`, and passing other arguments without an explicit keyword will result in an error or misinterpretation.\n",
            "  warnings.warn(\n",
            "C:\\Users\\HP\\anaconda3\\lib\\site-packages\\seaborn\\_decorators.py:36: FutureWarning: Pass the following variable as a keyword arg: x. From version 0.12, the only valid positional argument will be `data`, and passing other arguments without an explicit keyword will result in an error or misinterpretation.\n",
            "  warnings.warn(\n",
            "C:\\Users\\HP\\anaconda3\\lib\\site-packages\\seaborn\\_decorators.py:36: FutureWarning: Pass the following variable as a keyword arg: x. From version 0.12, the only valid positional argument will be `data`, and passing other arguments without an explicit keyword will result in an error or misinterpretation.\n",
            "  warnings.warn(\n",
            "C:\\Users\\HP\\anaconda3\\lib\\site-packages\\seaborn\\_decorators.py:36: FutureWarning: Pass the following variable as a keyword arg: x. From version 0.12, the only valid positional argument will be `data`, and passing other arguments without an explicit keyword will result in an error or misinterpretation.\n",
            "  warnings.warn(\n",
            "C:\\Users\\HP\\anaconda3\\lib\\site-packages\\seaborn\\_decorators.py:36: FutureWarning: Pass the following variable as a keyword arg: x. From version 0.12, the only valid positional argument will be `data`, and passing other arguments without an explicit keyword will result in an error or misinterpretation.\n",
            "  warnings.warn(\n"
          ]
        },
        {
          "data": {
            "image/png": "[encoded data removed]",
            "text/plain": [
              "<Figure size 2160x1440 with 11 Axes>"
            ]
          },
          "metadata": {
            "needs_background": "light"
          },
          "output_type": "display_data"
        }
      ],
      "source": [
        "plt.figure(figsize=(30,20))\n",
        "for i,feature in enumerate(cat_col):\n",
        "    plt.subplot(4,3,i+1)\n",
        "    sns.countplot(df[feature])"
      ]
    },
    {
      "cell_type": "code",
      "execution_count": null,
      "metadata": {
        "id": "O_SDW-q0ZJ4r",
        "outputId": "4d9432b1-3715-4019-f337-60f63c43c1b3"
      },
      "outputs": [
        {
          "data": {
            "text/plain": [
              "<AxesSubplot:>"
            ]
          },
          "execution_count": 21,
          "metadata": {},
          "output_type": "execute_result"
        },
        {
          "data": {
            "image/png": "[encoded data removed]",
            "text/plain": [
              "<Figure size 1296x576 with 2 Axes>"
            ]
          },
          "metadata": {
            "needs_background": "light"
          },
          "output_type": "display_data"
        }
      ],
      "source": [
        "plt.figure(figsize=(18,8)) \n",
        "sns.heatmap(df.corr(),annot=True)"
      ]
    },
    {
      "cell_type": "code",
      "execution_count": null,
      "metadata": {
        "id": "4mrPD2kJZJ4r",
        "outputId": "020cb18f-8237-4a61-bf92-a747100ea363"
      },
      "outputs": [
        {
          "name": "stdout",
          "output_type": "stream",
          "text": [
            "Requirement already satisfied: tabulate in c:\\users\\hp\\anaconda3\\lib\\site-packages (0.9.0)\n"
          ]
        }
      ],
      "source": [
        "!pip install tabulate\n",
        "from tabulate import tabulate"
      ]
    },
    {
      "cell_type": "code",
      "execution_count": null,
      "metadata": {
        "id": "d6c4MF7LZJ4r",
        "outputId": "e69411b7-9fb3-4ac9-b614-4032ecc13b00"
      },
      "outputs": [
        {
          "name": "stdout",
          "output_type": "stream",
          "text": [
            "Name                      count        mean    median       min        max\n",
            "----------------------  -------  ----------  --------  --------  ---------\n",
            "age                         400    51.6525      54.5      2         90\n",
            "blood pressure              400    76.5         80       50        180\n",
            "specific gravity            400     1.01764      1.02     1.005      1.025\n",
            "albumin                     400     1.02         0        0          5\n",
            "sugar                       400     0.4475       0        0          5\n",
            "blood glucose random        400   149.095      121       22        490\n",
            "blood urea                  400    57.9555      42        1.5      391\n",
            "serum creatinine            400     3.06437      1.3      0.4       76\n",
            "sodium                      400   137.403      138        4.5      163\n",
            "potassium                   400     4.76875      4.4      2.5       47\n",
            "haemoglobin                 400    12.58        12.7      3.1       17.8\n",
            "packed cell volume          400    39.0925      41        9         54\n",
            "white blood cell count      400  8452.5       8000     2200      26400\n",
            "red blood cell count        400     4.7125       4.8      2.1        8\n"
          ]
        }
      ],
      "source": [
        "g=[['Name','count','mean','median','min','max']]\n",
        "for i in df.columns:\n",
        "    if df[i].dtypes=='float64':\n",
        "        d=[i, df[i].count(), df[i].mean(), df[i].median(), df[i].min(), df[i].max()]\n",
        "        g.append(d)      \n",
        "print(tabulate(g, headers='firstrow'))"
      ]
    },
    {
      "cell_type": "markdown",
      "metadata": {
        "id": "3sciFJYWZJ4s"
      },
      "source": [
        "# DEPENDENT AND INDEPENDENT VARIABLES\n"
      ]
    },
    {
      "cell_type": "code",
      "execution_count": null,
      "metadata": {
        "id": "IpShee-lZJ4s",
        "outputId": "742079b1-3fbc-4f67-dd9c-0f8ac68c2632"
      },
      "outputs": [
        {
          "data": {
            "text/html": [
              "<div>\n",
              "<style scoped>\n",
              "    .dataframe tbody tr th:only-of-type {\n",
              "        vertical-align: middle;\n",
              "    }\n",
              "\n",
              "    .dataframe tbody tr th {\n",
              "        vertical-align: top;\n",
              "    }\n",
              "\n",
              "    .dataframe thead th {\n",
              "        text-align: right;\n",
              "    }\n",
              "</style>\n",
              "<table border=\"1\" class=\"dataframe\">\n",
              "  <thead>\n",
              "    <tr style=\"text-align: right;\">\n",
              "      <th></th>\n",
              "      <th>age</th>\n",
              "      <th>blood pressure</th>\n",
              "      <th>specific gravity</th>\n",
              "      <th>albumin</th>\n",
              "      <th>sugar</th>\n",
              "      <th>red blood cells</th>\n",
              "      <th>pus cell</th>\n",
              "      <th>pus cell clumps</th>\n",
              "      <th>bacteria</th>\n",
              "      <th>blood glucose random</th>\n",
              "      <th>...</th>\n",
              "      <th>packed cell volume</th>\n",
              "      <th>white blood cell count</th>\n",
              "      <th>red blood cell count</th>\n",
              "      <th>ypertension</th>\n",
              "      <th>diabetes mellitus</th>\n",
              "      <th>coronary artery disease</th>\n",
              "      <th>appetite</th>\n",
              "      <th>pedal edema</th>\n",
              "      <th>anemia</th>\n",
              "      <th>class</th>\n",
              "    </tr>\n",
              "  </thead>\n",
              "  <tbody>\n",
              "    <tr>\n",
              "      <th>0</th>\n",
              "      <td>48.0</td>\n",
              "      <td>80.0</td>\n",
              "      <td>1.020</td>\n",
              "      <td>1.0</td>\n",
              "      <td>0.0</td>\n",
              "      <td>1</td>\n",
              "      <td>1</td>\n",
              "      <td>0</td>\n",
              "      <td>0</td>\n",
              "      <td>121.0</td>\n",
              "      <td>...</td>\n",
              "      <td>44.0</td>\n",
              "      <td>7800.0</td>\n",
              "      <td>5.2</td>\n",
              "      <td>1</td>\n",
              "      <td>2</td>\n",
              "      <td>0</td>\n",
              "      <td>0</td>\n",
              "      <td>0</td>\n",
              "      <td>0</td>\n",
              "      <td>0</td>\n",
              "    </tr>\n",
              "    <tr>\n",
              "      <th>1</th>\n",
              "      <td>7.0</td>\n",
              "      <td>50.0</td>\n",
              "      <td>1.020</td>\n",
              "      <td>4.0</td>\n",
              "      <td>0.0</td>\n",
              "      <td>1</td>\n",
              "      <td>1</td>\n",
              "      <td>0</td>\n",
              "      <td>0</td>\n",
              "      <td>123.0</td>\n",
              "      <td>...</td>\n",
              "      <td>38.0</td>\n",
              "      <td>6000.0</td>\n",
              "      <td>4.5</td>\n",
              "      <td>0</td>\n",
              "      <td>1</td>\n",
              "      <td>0</td>\n",
              "      <td>0</td>\n",
              "      <td>0</td>\n",
              "      <td>0</td>\n",
              "      <td>0</td>\n",
              "    </tr>\n",
              "    <tr>\n",
              "      <th>2</th>\n",
              "      <td>62.0</td>\n",
              "      <td>80.0</td>\n",
              "      <td>1.010</td>\n",
              "      <td>2.0</td>\n",
              "      <td>3.0</td>\n",
              "      <td>1</td>\n",
              "      <td>1</td>\n",
              "      <td>0</td>\n",
              "      <td>0</td>\n",
              "      <td>423.0</td>\n",
              "      <td>...</td>\n",
              "      <td>31.0</td>\n",
              "      <td>7500.0</td>\n",
              "      <td>5.2</td>\n",
              "      <td>0</td>\n",
              "      <td>2</td>\n",
              "      <td>0</td>\n",
              "      <td>1</td>\n",
              "      <td>0</td>\n",
              "      <td>1</td>\n",
              "      <td>0</td>\n",
              "    </tr>\n",
              "    <tr>\n",
              "      <th>3</th>\n",
              "      <td>48.0</td>\n",
              "      <td>70.0</td>\n",
              "      <td>1.005</td>\n",
              "      <td>4.0</td>\n",
              "      <td>0.0</td>\n",
              "      <td>1</td>\n",
              "      <td>0</td>\n",
              "      <td>1</td>\n",
              "      <td>0</td>\n",
              "      <td>117.0</td>\n",
              "      <td>...</td>\n",
              "      <td>32.0</td>\n",
              "      <td>6700.0</td>\n",
              "      <td>3.9</td>\n",
              "      <td>1</td>\n",
              "      <td>1</td>\n",
              "      <td>0</td>\n",
              "      <td>1</td>\n",
              "      <td>1</td>\n",
              "      <td>1</td>\n",
              "      <td>0</td>\n",
              "    </tr>\n",
              "    <tr>\n",
              "      <th>4</th>\n",
              "      <td>51.0</td>\n",
              "      <td>80.0</td>\n",
              "      <td>1.010</td>\n",
              "      <td>2.0</td>\n",
              "      <td>0.0</td>\n",
              "      <td>1</td>\n",
              "      <td>1</td>\n",
              "      <td>0</td>\n",
              "      <td>0</td>\n",
              "      <td>106.0</td>\n",
              "      <td>...</td>\n",
              "      <td>35.0</td>\n",
              "      <td>7300.0</td>\n",
              "      <td>4.6</td>\n",
              "      <td>0</td>\n",
              "      <td>1</td>\n",
              "      <td>0</td>\n",
              "      <td>0</td>\n",
              "      <td>0</td>\n",
              "      <td>0</td>\n",
              "      <td>0</td>\n",
              "    </tr>\n",
              "  </tbody>\n",
              "</table>\n",
              "<p>5 rows × 25 columns</p>\n",
              "</div>"
            ],
            "text/plain": [
              "    age  blood pressure  specific gravity  albumin  sugar  red blood cells  \\\n",
              "0  48.0            80.0             1.020      1.0    0.0                1   \n",
              "1   7.0            50.0             1.020      4.0    0.0                1   \n",
              "2  62.0            80.0             1.010      2.0    3.0                1   \n",
              "3  48.0            70.0             1.005      4.0    0.0                1   \n",
              "4  51.0            80.0             1.010      2.0    0.0                1   \n",
              "\n",
              "    pus cell  pus cell clumps  bacteria  blood glucose random  ...  \\\n",
              "0          1                0         0                 121.0  ...   \n",
              "1          1                0         0                 123.0  ...   \n",
              "2          1                0         0                 423.0  ...   \n",
              "3          0                1         0                 117.0  ...   \n",
              "4          1                0         0                 106.0  ...   \n",
              "\n",
              "   packed cell volume  white blood cell count  red blood cell count  \\\n",
              "0                44.0                  7800.0                   5.2   \n",
              "1                38.0                  6000.0                   4.5   \n",
              "2                31.0                  7500.0                   5.2   \n",
              "3                32.0                  6700.0                   3.9   \n",
              "4                35.0                  7300.0                   4.6   \n",
              "\n",
              "   ypertension  diabetes mellitus  coronary artery disease  appetite  \\\n",
              "0            1                  2                        0         0   \n",
              "1            0                  1                        0         0   \n",
              "2            0                  2                        0         1   \n",
              "3            1                  1                        0         1   \n",
              "4            0                  1                        0         0   \n",
              "\n",
              "   pedal edema  anemia  class  \n",
              "0            0       0      0  \n",
              "1            0       0      0  \n",
              "2            0       1      0  \n",
              "3            1       1      0  \n",
              "4            0       0      0  \n",
              "\n",
              "[5 rows x 25 columns]"
            ]
          },
          "execution_count": 24,
          "metadata": {},
          "output_type": "execute_result"
        }
      ],
      "source": [
        "from sklearn.preprocessing import LabelEncoder\n",
        "le=LabelEncoder()\n",
        "for col in cat_col:\n",
        "    df[col]=le.fit_transform(df[col])\n",
        "df.head()\n",
        "#0 is ckd and 1 is non ckd"
      ]
    },
    {
      "cell_type": "code",
      "execution_count": null,
      "metadata": {
        "id": "rGAY2S2qZJ4s"
      },
      "outputs": [],
      "source": [
        "from sklearn.feature_selection import SelectKBest\n",
        "from sklearn.feature_selection import chi2"
      ]
    },
    {
      "cell_type": "code",
      "execution_count": null,
      "metadata": {
        "id": "BbfrRtkoZJ4s"
      },
      "outputs": [],
      "source": [
        "ind_col=[col for col in df.columns if col!='class']\n",
        "dep_col='class'"
      ]
    },
    {
      "cell_type": "code",
      "execution_count": null,
      "metadata": {
        "id": "DwoOPVh5ZJ4s"
      },
      "outputs": [],
      "source": [
        "x=df[ind_col]\n",
        "y=df[dep_col]"
      ]
    },
    {
      "cell_type": "code",
      "execution_count": null,
      "metadata": {
        "id": "yeYwhfORZJ4t",
        "outputId": "599fc4d8-8d7a-4dbe-a280-5ff923127e62"
      },
      "outputs": [
        {
          "data": {
            "text/plain": [
              "array([1.14207189e+02, 8.27783595e+01, 5.45432056e-03, 2.23511165e+02,\n",
              "       9.68992248e+01, 9.07665647e+00, 1.45092652e+01, 2.26992248e+01,\n",
              "       1.32000000e+01, 2.42620918e+03, 2.24318266e+03, 3.49978296e+02,\n",
              "       3.07801680e+01, 5.92095880e+00, 1.26399411e+02, 3.20127626e+02,\n",
              "       1.39464954e+04, 2.25594130e+01, 8.82000000e+01, 2.04392523e+01,\n",
              "       2.04000000e+01, 4.66514056e+01, 4.56000000e+01, 3.60000000e+01])"
            ]
          },
          "execution_count": 31,
          "metadata": {},
          "output_type": "execute_result"
        }
      ],
      "source": [
        "ordered_rank_feature=SelectKBest(score_func=chi2,k=20)\n",
        "ordered_feature=ordered_rank_feature.fit(x,y)\n",
        "ordered_feature.scores_\n"
      ]
    },
    {
      "cell_type": "code",
      "execution_count": null,
      "metadata": {
        "id": "Aajai9nmZJ4t"
      },
      "outputs": [],
      "source": [
        "df_score=pd.DataFrame(ordered_feature.scores_,columns=['score'])"
      ]
    },
    {
      "cell_type": "code",
      "execution_count": null,
      "metadata": {
        "id": "YpPBVt9pZJ4t",
        "outputId": "1f8e3291-32b6-4849-d9f3-5aa7b2852ad0"
      },
      "outputs": [
        {
          "data": {
            "text/html": [
              "<div>\n",
              "<style scoped>\n",
              "    .dataframe tbody tr th:only-of-type {\n",
              "        vertical-align: middle;\n",
              "    }\n",
              "\n",
              "    .dataframe tbody tr th {\n",
              "        vertical-align: top;\n",
              "    }\n",
              "\n",
              "    .dataframe thead th {\n",
              "        text-align: right;\n",
              "    }\n",
              "</style>\n",
              "<table border=\"1\" class=\"dataframe\">\n",
              "  <thead>\n",
              "    <tr style=\"text-align: right;\">\n",
              "      <th></th>\n",
              "      <th>feature</th>\n",
              "      <th>score</th>\n",
              "    </tr>\n",
              "  </thead>\n",
              "  <tbody>\n",
              "    <tr>\n",
              "      <th>0</th>\n",
              "      <td>age</td>\n",
              "      <td>114.207189</td>\n",
              "    </tr>\n",
              "    <tr>\n",
              "      <th>1</th>\n",
              "      <td>blood pressure</td>\n",
              "      <td>82.778360</td>\n",
              "    </tr>\n",
              "    <tr>\n",
              "      <th>2</th>\n",
              "      <td>specific gravity</td>\n",
              "      <td>0.005454</td>\n",
              "    </tr>\n",
              "    <tr>\n",
              "      <th>3</th>\n",
              "      <td>albumin</td>\n",
              "      <td>223.511165</td>\n",
              "    </tr>\n",
              "    <tr>\n",
              "      <th>4</th>\n",
              "      <td>sugar</td>\n",
              "      <td>96.899225</td>\n",
              "    </tr>\n",
              "  </tbody>\n",
              "</table>\n",
              "</div>"
            ],
            "text/plain": [
              "            feature       score\n",
              "0               age  114.207189\n",
              "1    blood pressure   82.778360\n",
              "2  specific gravity    0.005454\n",
              "3           albumin  223.511165\n",
              "4             sugar   96.899225"
            ]
          },
          "execution_count": 33,
          "metadata": {},
          "output_type": "execute_result"
        }
      ],
      "source": [
        "df_x=pd.DataFrame(x.columns,columns=['feature'])\n",
        "features_rank=pd.concat([df_x,df_score],axis=1)\n",
        "features_rank.head()"
      ]
    },
    {
      "cell_type": "code",
      "execution_count": null,
      "metadata": {
        "id": "83MEuuJaZJ4t",
        "outputId": "4f49b3de-db9a-4ad4-b55c-4d56193813e4"
      },
      "outputs": [
        {
          "data": {
            "text/plain": [
              "13946.495422629101"
            ]
          },
          "execution_count": 34,
          "metadata": {},
          "output_type": "execute_result"
        }
      ],
      "source": [
        "features_rank['score'].max()"
      ]
    },
    {
      "cell_type": "code",
      "execution_count": null,
      "metadata": {
        "id": "ZE5t8dXqZJ4t",
        "outputId": "7ed66f17-b7e1-4d0e-d766-4eb53e4bb0f0"
      },
      "outputs": [
        {
          "data": {
            "text/html": [
              "<div>\n",
              "<style scoped>\n",
              "    .dataframe tbody tr th:only-of-type {\n",
              "        vertical-align: middle;\n",
              "    }\n",
              "\n",
              "    .dataframe tbody tr th {\n",
              "        vertical-align: top;\n",
              "    }\n",
              "\n",
              "    .dataframe thead th {\n",
              "        text-align: right;\n",
              "    }\n",
              "</style>\n",
              "<table border=\"1\" class=\"dataframe\">\n",
              "  <thead>\n",
              "    <tr style=\"text-align: right;\">\n",
              "      <th></th>\n",
              "      <th>feature</th>\n",
              "      <th>score</th>\n",
              "    </tr>\n",
              "  </thead>\n",
              "  <tbody>\n",
              "    <tr>\n",
              "      <th>16</th>\n",
              "      <td>white blood cell count</td>\n",
              "      <td>13946.495423</td>\n",
              "    </tr>\n",
              "    <tr>\n",
              "      <th>9</th>\n",
              "      <td>blood glucose random</td>\n",
              "      <td>2426.209182</td>\n",
              "    </tr>\n",
              "    <tr>\n",
              "      <th>10</th>\n",
              "      <td>blood urea</td>\n",
              "      <td>2243.182659</td>\n",
              "    </tr>\n",
              "    <tr>\n",
              "      <th>11</th>\n",
              "      <td>serum creatinine</td>\n",
              "      <td>349.978296</td>\n",
              "    </tr>\n",
              "    <tr>\n",
              "      <th>15</th>\n",
              "      <td>packed cell volume</td>\n",
              "      <td>320.127626</td>\n",
              "    </tr>\n",
              "    <tr>\n",
              "      <th>3</th>\n",
              "      <td>albumin</td>\n",
              "      <td>223.511165</td>\n",
              "    </tr>\n",
              "    <tr>\n",
              "      <th>14</th>\n",
              "      <td>haemoglobin</td>\n",
              "      <td>126.399411</td>\n",
              "    </tr>\n",
              "    <tr>\n",
              "      <th>0</th>\n",
              "      <td>age</td>\n",
              "      <td>114.207189</td>\n",
              "    </tr>\n",
              "    <tr>\n",
              "      <th>4</th>\n",
              "      <td>sugar</td>\n",
              "      <td>96.899225</td>\n",
              "    </tr>\n",
              "    <tr>\n",
              "      <th>18</th>\n",
              "      <td>ypertension</td>\n",
              "      <td>88.200000</td>\n",
              "    </tr>\n",
              "  </tbody>\n",
              "</table>\n",
              "</div>"
            ],
            "text/plain": [
              "                   feature         score\n",
              "16  white blood cell count  13946.495423\n",
              "9     blood glucose random   2426.209182\n",
              "10              blood urea   2243.182659\n",
              "11        serum creatinine    349.978296\n",
              "15      packed cell volume    320.127626\n",
              "3                  albumin    223.511165\n",
              "14             haemoglobin    126.399411\n",
              "0                      age    114.207189\n",
              "4                    sugar     96.899225\n",
              "18             ypertension     88.200000"
            ]
          },
          "execution_count": 35,
          "metadata": {},
          "output_type": "execute_result"
        }
      ],
      "source": [
        "features_rank.nlargest(10,'score')"
      ]
    },
    {
      "cell_type": "code",
      "execution_count": null,
      "metadata": {
        "id": "3SS46fgRZJ4t",
        "outputId": "c0ad6916-a814-4e14-a8dc-8f2221dfdc00"
      },
      "outputs": [
        {
          "data": {
            "text/plain": [
              "array(['white blood cell count', 'blood glucose random', 'blood urea',\n",
              "       'serum creatinine', 'packed cell volume', 'albumin', 'haemoglobin',\n",
              "       'age', 'sugar', 'ypertension'], dtype=object)"
            ]
          },
          "execution_count": 36,
          "metadata": {},
          "output_type": "execute_result"
        }
      ],
      "source": [
        "selected_columns=features_rank.nlargest(10,'score')['feature'].values\n",
        "selected_columns"
      ]
    },
    {
      "cell_type": "code",
      "execution_count": null,
      "metadata": {
        "id": "Hqhk2MWbZJ4u",
        "outputId": "64f4402e-3d27-4f8f-b0f1-f09e0af50286"
      },
      "outputs": [
        {
          "data": {
            "text/html": [
              "<div>\n",
              "<style scoped>\n",
              "    .dataframe tbody tr th:only-of-type {\n",
              "        vertical-align: middle;\n",
              "    }\n",
              "\n",
              "    .dataframe tbody tr th {\n",
              "        vertical-align: top;\n",
              "    }\n",
              "\n",
              "    .dataframe thead th {\n",
              "        text-align: right;\n",
              "    }\n",
              "</style>\n",
              "<table border=\"1\" class=\"dataframe\">\n",
              "  <thead>\n",
              "    <tr style=\"text-align: right;\">\n",
              "      <th></th>\n",
              "      <th>white blood cell count</th>\n",
              "      <th>blood glucose random</th>\n",
              "      <th>blood urea</th>\n",
              "      <th>serum creatinine</th>\n",
              "      <th>packed cell volume</th>\n",
              "      <th>albumin</th>\n",
              "      <th>haemoglobin</th>\n",
              "      <th>age</th>\n",
              "      <th>sugar</th>\n",
              "      <th>ypertension</th>\n",
              "    </tr>\n",
              "  </thead>\n",
              "  <tbody>\n",
              "    <tr>\n",
              "      <th>0</th>\n",
              "      <td>7800.0</td>\n",
              "      <td>121.0</td>\n",
              "      <td>36.0</td>\n",
              "      <td>1.2</td>\n",
              "      <td>44.0</td>\n",
              "      <td>1.0</td>\n",
              "      <td>15.4</td>\n",
              "      <td>48.0</td>\n",
              "      <td>0.0</td>\n",
              "      <td>1</td>\n",
              "    </tr>\n",
              "    <tr>\n",
              "      <th>1</th>\n",
              "      <td>6000.0</td>\n",
              "      <td>120.0</td>\n",
              "      <td>18.0</td>\n",
              "      <td>0.8</td>\n",
              "      <td>38.0</td>\n",
              "      <td>4.0</td>\n",
              "      <td>11.3</td>\n",
              "      <td>7.0</td>\n",
              "      <td>0.0</td>\n",
              "      <td>0</td>\n",
              "    </tr>\n",
              "    <tr>\n",
              "      <th>2</th>\n",
              "      <td>7500.0</td>\n",
              "      <td>423.0</td>\n",
              "      <td>53.0</td>\n",
              "      <td>1.8</td>\n",
              "      <td>31.0</td>\n",
              "      <td>2.0</td>\n",
              "      <td>9.6</td>\n",
              "      <td>62.0</td>\n",
              "      <td>3.0</td>\n",
              "      <td>0</td>\n",
              "    </tr>\n",
              "    <tr>\n",
              "      <th>3</th>\n",
              "      <td>6700.0</td>\n",
              "      <td>117.0</td>\n",
              "      <td>56.0</td>\n",
              "      <td>3.8</td>\n",
              "      <td>32.0</td>\n",
              "      <td>4.0</td>\n",
              "      <td>11.2</td>\n",
              "      <td>48.0</td>\n",
              "      <td>0.0</td>\n",
              "      <td>1</td>\n",
              "    </tr>\n",
              "    <tr>\n",
              "      <th>4</th>\n",
              "      <td>7300.0</td>\n",
              "      <td>106.0</td>\n",
              "      <td>26.0</td>\n",
              "      <td>1.4</td>\n",
              "      <td>35.0</td>\n",
              "      <td>2.0</td>\n",
              "      <td>11.6</td>\n",
              "      <td>51.0</td>\n",
              "      <td>0.0</td>\n",
              "      <td>0</td>\n",
              "    </tr>\n",
              "  </tbody>\n",
              "</table>\n",
              "</div>"
            ],
            "text/plain": [
              "   white blood cell count  blood glucose random  blood urea  serum creatinine  \\\n",
              "0                  7800.0                 121.0        36.0               1.2   \n",
              "1                  6000.0                 120.0        18.0               0.8   \n",
              "2                  7500.0                 423.0        53.0               1.8   \n",
              "3                  6700.0                 117.0        56.0               3.8   \n",
              "4                  7300.0                 106.0        26.0               1.4   \n",
              "\n",
              "   packed cell volume  albumin  haemoglobin   age  sugar  ypertension  \n",
              "0                44.0      1.0         15.4  48.0    0.0            1  \n",
              "1                38.0      4.0         11.3   7.0    0.0            0  \n",
              "2                31.0      2.0          9.6  62.0    3.0            0  \n",
              "3                32.0      4.0         11.2  48.0    0.0            1  \n",
              "4                35.0      2.0         11.6  51.0    0.0            0  "
            ]
          },
          "execution_count": 37,
          "metadata": {},
          "output_type": "execute_result"
        }
      ],
      "source": [
        "x_new=df[selected_columns]\n",
        "x_new.head()"
      ]
    },
    {
      "cell_type": "code",
      "execution_count": null,
      "metadata": {
        "id": "-ek3fPaWZJ4u",
        "outputId": "358b31e9-d37e-453d-db72-53c738a53f6c"
      },
      "outputs": [
        {
          "data": {
            "text/plain": [
              "400"
            ]
          },
          "execution_count": 38,
          "metadata": {},
          "output_type": "execute_result"
        }
      ],
      "source": [
        "len(x_new)"
      ]
    },
    {
      "cell_type": "code",
      "execution_count": null,
      "metadata": {
        "id": "2PpwQ975ZJ4u",
        "outputId": "627e90c1-c643-40a2-9f6e-25ff62e040d1"
      },
      "outputs": [
        {
          "data": {
            "text/plain": [
              "(400, 10)"
            ]
          },
          "execution_count": 39,
          "metadata": {},
          "output_type": "execute_result"
        }
      ],
      "source": [
        "x_new.shape"
      ]
    },
    {
      "cell_type": "markdown",
      "metadata": {
        "id": "wJpm-NUHZJ4u"
      },
      "source": [
        "# Prediction Model\n"
      ]
    },
    {
      "cell_type": "code",
      "execution_count": null,
      "metadata": {
        "id": "Yv3wyYwoZJ4u"
      },
      "outputs": [],
      "source": [
        "from sklearn.model_selection import train_test_split\n",
        "xtrain,xtest,ytrain,ytest=train_test_split(x_new,y,random_state=0,test_size=0.25)"
      ]
    },
    {
      "cell_type": "code",
      "execution_count": null,
      "metadata": {
        "id": "4oXdtKL4ZJ4u",
        "outputId": "bc7c77f8-8d6d-4e3f-c5c0-573a60b385a2"
      },
      "outputs": [
        {
          "data": {
            "text/plain": [
              "0    188\n",
              "1    112\n",
              "Name: class, dtype: int64"
            ]
          },
          "execution_count": 41,
          "metadata": {},
          "output_type": "execute_result"
        }
      ],
      "source": [
        "ytrain.value_counts() #Balanced Data\n"
      ]
    },
    {
      "cell_type": "code",
      "execution_count": null,
      "metadata": {
        "id": "YvkIxvFAZJ4v",
        "outputId": "76fe1922-6637-4303-f297-b2cb83ad4b8d"
      },
      "outputs": [
        {
          "name": "stdout",
          "output_type": "stream",
          "text": [
            "Collecting xgboost\n",
            "  Downloading xgboost-1.7.1-py3-none-win_amd64.whl (89.1 MB)\n",
            "Requirement already satisfied: numpy in c:\\users\\hp\\anaconda3\\lib\\site-packages (from xgboost) (1.19.2)\n",
            "Requirement already satisfied: scipy in c:\\users\\hp\\anaconda3\\lib\\site-packages (from xgboost) (1.5.2)\n",
            "Installing collected packages: xgboost\n",
            "Successfully installed xgboost-1.7.1\n"
          ]
        }
      ],
      "source": [
        "!pip install xgboost\n",
        "from xgboost import XGBClassifier"
      ]
    },
    {
      "cell_type": "code",
      "execution_count": null,
      "metadata": {
        "id": "LDduWFQ3ZJ4v"
      },
      "outputs": [],
      "source": [
        "classifier=XGBClassifier()"
      ]
    },
    {
      "cell_type": "code",
      "execution_count": null,
      "metadata": {
        "id": "Tw7e6ETMZJ4v"
      },
      "outputs": [],
      "source": [
        "param={'learning_rate':[0.05,0.20,0.25],\n",
        "       'max_depth':[5,8,10],\n",
        "        'min_child_weight':[1,3,5,7],\n",
        "         'gamma':[0.0,0.1,0.2,0.4],\n",
        "         'colsample_bytree':[0.3,0.4,0.7]}"
      ]
    },
    {
      "cell_type": "code",
      "execution_count": null,
      "metadata": {
        "id": "RVaWPzGYZJ4v"
      },
      "outputs": [],
      "source": [
        "from sklearn.model_selection import RandomizedSearchCV\n",
        "random_search=RandomizedSearchCV(classifier,param_distributions=param, n_iter=5, scoring='roc_auc', n_jobs=-1,cv=5,verbose=3)"
      ]
    },
    {
      "cell_type": "code",
      "execution_count": null,
      "metadata": {
        "id": "ZuqnKZezZJ4v",
        "outputId": "f0941c30-a9e6-4867-f044-dc2933354e29"
      },
      "outputs": [
        {
          "name": "stdout",
          "output_type": "stream",
          "text": [
            "Fitting 5 folds for each of 5 candidates, totalling 25 fits\n"
          ]
        },
        {
          "name": "stderr",
          "output_type": "stream",
          "text": [
            "[Parallel(n_jobs=-1)]: Using backend LokyBackend with 8 concurrent workers.\n",
            "[Parallel(n_jobs=-1)]: Done  19 out of  25 | elapsed:    6.2s remaining:    1.9s\n",
            "[Parallel(n_jobs=-1)]: Done  25 out of  25 | elapsed:    6.3s finished\n"
          ]
        },
        {
          "data": {
            "text/plain": [
              "RandomizedSearchCV(cv=5,\n",
              "                   estimator=XGBClassifier(base_score=None, booster=None,\n",
              "                                           callbacks=None,\n",
              "                                           colsample_bylevel=None,\n",
              "                                           colsample_bynode=None,\n",
              "                                           colsample_bytree=None,\n",
              "                                           early_stopping_rounds=None,\n",
              "                                           enable_categorical=False,\n",
              "                                           eval_metric=None, feature_types=None,\n",
              "                                           gamma=None, gpu_id=None,\n",
              "                                           grow_policy=None,\n",
              "                                           importance_type=None,\n",
              "                                           interaction_constraints=None,\n",
              "                                           learning_rate...\n",
              "                                           min_child_weight=None, missing=nan,\n",
              "                                           monotone_constraints=None,\n",
              "                                           n_estimators=100, n_jobs=None,\n",
              "                                           num_parallel_tree=None,\n",
              "                                           predictor=None, random_state=None, ...),\n",
              "                   n_iter=5, n_jobs=-1,\n",
              "                   param_distributions={'colsample_bytree': [0.3, 0.4, 0.7],\n",
              "                                        'gamma': [0.0, 0.1, 0.2, 0.4],\n",
              "                                        'learning_rate': [0.05, 0.2, 0.25],\n",
              "                                        'max_depth': [5, 8, 10],\n",
              "                                        'min_child_weight': [1, 3, 5, 7]},\n",
              "                   scoring='roc_auc', verbose=3)"
            ]
          },
          "execution_count": 46,
          "metadata": {},
          "output_type": "execute_result"
        }
      ],
      "source": [
        "random_search.fit(xtrain,ytrain)"
      ]
    },
    {
      "cell_type": "code",
      "execution_count": null,
      "metadata": {
        "id": "gc5x1rV5ZJ4v",
        "outputId": "184bc431-edf6-4191-e25e-7be3222c2e2f"
      },
      "outputs": [
        {
          "data": {
            "text/plain": [
              "XGBClassifier(base_score=0.5, booster='gbtree', callbacks=None,\n",
              "              colsample_bylevel=1, colsample_bynode=1, colsample_bytree=0.4,\n",
              "              early_stopping_rounds=None, enable_categorical=False,\n",
              "              eval_metric=None, feature_types=None, gamma=0.1, gpu_id=-1,\n",
              "              grow_policy='depthwise', importance_type=None,\n",
              "              interaction_constraints='', learning_rate=0.05, max_bin=256,\n",
              "              max_cat_threshold=64, max_cat_to_onehot=4, max_delta_step=0,\n",
              "              max_depth=10, max_leaves=0, min_child_weight=3, missing=nan,\n",
              "              monotone_constraints='()', n_estimators=100, n_jobs=0,\n",
              "              num_parallel_tree=1, predictor='auto', random_state=0, ...)"
            ]
          },
          "execution_count": 47,
          "metadata": {},
          "output_type": "execute_result"
        }
      ],
      "source": [
        "random_search.best_estimator_"
      ]
    },
    {
      "cell_type": "code",
      "execution_count": null,
      "metadata": {
        "id": "dL03ZyfqZJ4w",
        "outputId": "8996cdb6-9bf3-49e5-a48a-8a1a38cdce8a"
      },
      "outputs": [
        {
          "data": {
            "text/plain": [
              "{'min_child_weight': 3,\n",
              " 'max_depth': 10,\n",
              " 'learning_rate': 0.05,\n",
              " 'gamma': 0.1,\n",
              " 'colsample_bytree': 0.4}"
            ]
          },
          "execution_count": 48,
          "metadata": {},
          "output_type": "execute_result"
        }
      ],
      "source": [
        "random_search.best_params_"
      ]
    },
    {
      "cell_type": "markdown",
      "metadata": {
        "id": "lZQnUtj9ZJ4w"
      },
      "source": [
        "# Model Initialization"
      ]
    },
    {
      "cell_type": "code",
      "execution_count": null,
      "metadata": {
        "id": "vZagjOGgZJ4w"
      },
      "outputs": [],
      "source": [
        "classifier=XGBClassifier(base_score=0.5, booster='gbtree', colsample_bylevel=1,\n",
        "              colsample_bynode=1, colsample_bytree=0.4, gamma=0.4, gpu_id=-1,\n",
        "              importance_type='gain', interaction_constraints='',\n",
        "              learning_rate=0.05, max_delta_step=0, max_depth=10,\n",
        "              min_child_weight=1, monotone_constraints='()',\n",
        "              n_estimators=100, n_jobs=4, num_parallel_tree=1, random_state=0,\n",
        "              reg_alpha=0, reg_lambda=1, scale_pos_weight=1, subsample=1,\n",
        "              tree_method='exact', validate_parameters=1, verbosity=None)"
      ]
    },
    {
      "cell_type": "code",
      "execution_count": null,
      "metadata": {
        "id": "-fg1Mh6kZJ4w",
        "outputId": "5ddc005c-1e6a-4e33-f818-bd4822a0355d"
      },
      "outputs": [
        {
          "data": {
            "text/plain": [
              "XGBClassifier(base_score=0.5, booster='gbtree', callbacks=None,\n",
              "              colsample_bylevel=1, colsample_bynode=1, colsample_bytree=0.4,\n",
              "              early_stopping_rounds=None, enable_categorical=False,\n",
              "              eval_metric=None, feature_types=None, gamma=0.4, gpu_id=-1,\n",
              "              grow_policy='depthwise', importance_type='gain',\n",
              "              interaction_constraints='', learning_rate=0.05, max_bin=256,\n",
              "              max_cat_threshold=64, max_cat_to_onehot=4, max_delta_step=0,\n",
              "              max_depth=10, max_leaves=0, min_child_weight=1, missing=nan,\n",
              "              monotone_constraints='()', n_estimators=100, n_jobs=4,\n",
              "              num_parallel_tree=1, predictor='auto', random_state=0, ...)"
            ]
          },
          "execution_count": 50,
          "metadata": {},
          "output_type": "execute_result"
        }
      ],
      "source": [
        "classifier.fit(xtrain,ytrain)"
      ]
    },
    {
      "cell_type": "code",
      "execution_count": null,
      "metadata": {
        "id": "lcvXqzmSZJ4w",
        "outputId": "73b1879e-5e72-4067-c16e-297f712e95d1"
      },
      "outputs": [
        {
          "data": {
            "text/plain": [
              "array([0, 1, 1, 0, 0, 0, 0, 1, 0, 1, 0, 0, 0, 1, 0, 0, 1, 0, 0, 0, 0, 1,\n",
              "       0, 1, 0, 1, 0, 0, 1, 0, 0, 1, 1, 0, 0, 0, 0, 0, 0, 1, 0, 1, 0, 0,\n",
              "       1, 0, 1, 1, 0, 0, 0, 0, 1, 0, 1, 1, 0, 0, 0, 0, 0, 1, 0, 1, 0, 1,\n",
              "       0, 0, 0, 1, 0, 1, 0, 0, 0, 0, 1, 1, 1, 1, 1, 0, 0, 0, 1, 0, 0, 1,\n",
              "       1, 1, 1, 1, 0, 0, 0, 0, 0, 1, 1, 1])"
            ]
          },
          "execution_count": 51,
          "metadata": {},
          "output_type": "execute_result"
        }
      ],
      "source": [
        "ypred=classifier.predict(xtest)\n",
        "ypred"
      ]
    },
    {
      "cell_type": "code",
      "execution_count": null,
      "metadata": {
        "id": "X8umG3VkZJ4w",
        "outputId": "78aabefb-9948-4e46-d499-1099d3917042"
      },
      "outputs": [
        {
          "data": {
            "text/plain": [
              "array([[61,  1],\n",
              "       [ 0, 38]], dtype=int64)"
            ]
          },
          "execution_count": 52,
          "metadata": {},
          "output_type": "execute_result"
        }
      ],
      "source": [
        "from sklearn.metrics import confusion_matrix,accuracy_score\n",
        "confusion_matrix(ytest,ypred)"
      ]
    },
    {
      "cell_type": "code",
      "execution_count": null,
      "metadata": {
        "id": "kgWZuwjzZJ4x",
        "outputId": "d965baa1-591d-43e6-b706-3a825cc0eacf"
      },
      "outputs": [
        {
          "data": {
            "text/plain": [
              "0.99"
            ]
          },
          "execution_count": 53,
          "metadata": {},
          "output_type": "execute_result"
        }
      ],
      "source": [
        "accuracy_score(ytest,ypred)"
      ]
    },
    {
      "cell_type": "code",
      "execution_count": null,
      "metadata": {
        "id": "MpqO7y_gZJ4x"
      },
      "outputs": [],
      "source": []
    }
  ],
  "metadata": {
    "kernelspec": {
      "display_name": "Python 3",
      "language": "python",
      "name": "python3"
    },
    "language_info": {
      "codemirror_mode": {
        "name": "ipython",
        "version": 3
      },
      "file_extension": ".py",
      "mimetype": "text/x-python",
      "name": "python",
      "nbconvert_exporter": "python",
      "pygments_lexer": "ipython3",
      "version": "3.8.5"
    },
    "colab": {
      "provenance": []
    }
  },
  "nbformat": 4,
  "nbformat_minor": 0
}